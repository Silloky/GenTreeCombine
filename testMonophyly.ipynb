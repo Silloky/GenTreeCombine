{
 "cells": [
  {
   "cell_type": "code",
   "execution_count": 274,
   "metadata": {},
   "outputs": [
    {
     "name": "stdout",
     "output_type": "stream",
     "text": [
      "There are  15 trees and  92 nodes, of which 40 are sample nodes\n"
     ]
    }
   ],
   "source": [
    "# Create the Tree Sequence using the createTree.ipynb notebook\n",
    "\n",
    "%run \"createTree.ipynb\"\n",
    "ts = ts # Pylance false-positive\n",
    "\n",
    "import pandas as pd"
   ]
  },
  {
   "cell_type": "code",
   "execution_count": 275,
   "metadata": {},
   "outputs": [],
   "source": [
    "tree = ts.at_index(0)"
   ]
  },
  {
   "cell_type": "code",
   "execution_count": 276,
   "metadata": {},
   "outputs": [
    {
     "data": {
      "image/svg+xml": [
       "<svg baseProfile=\"full\" height=\"500\" version=\"1.1\" width=\"1000\" xmlns=\"http://www.w3.org/2000/svg\" xmlns:ev=\"http://www.w3.org/2001/xml-events\" xmlns:xlink=\"http://www.w3.org/1999/xlink\"><defs><style type=\"text/css\"><![CDATA[.background path {fill: #808080; fill-opacity: 0}.background path:nth-child(odd) {fill-opacity: .1}.axes {font-size: 14px}.x-axis .tick .lab {font-weight: bold; dominant-baseline: hanging}.axes, .tree {font-size: 14px; text-anchor: middle}.axes line, .edge {stroke: black; fill: none}.axes .ax-skip {stroke-dasharray: 4}.y-axis .grid {stroke: #FAFAFA}.node > .sym {fill: black; stroke: none}.site > .sym {stroke: black}.mut text {fill: red; font-style: italic}.mut.extra text {fill: hotpink}.mut line {fill: none; stroke: none}.mut .sym {fill: none; stroke: red}.mut.extra .sym {stroke: hotpink}.node .mut .sym {stroke-width: 1.5px}.tree text, .tree-sequence text {dominant-baseline: central}.plotbox .lab.lft {text-anchor: end}.plotbox .lab.rgt {text-anchor: start}]]></style></defs><g class=\"tree t0\"><g class=\"plotbox\"><g class=\"c2 node n90 p2 root\" transform=\"translate(619.918 26.8)\"><g class=\"a90 c2 node n75 p0\" transform=\"translate(322.582 103.351)\"><g class=\"a75 i8 leaf node n16 p0 sample\" transform=\"translate(25.5 338.049)\"><path class=\"edge\" d=\"M 0 0 V -338.049 H -25.5\" /><rect class=\"sym\" height=\"6\" style=\"fill:red;\" width=\"6\" x=\"-3\" y=\"-3\" /><text class=\"lab\" transform=\"translate(0 11)\">16</text></g><g class=\"a75 c2 node n72 p0\" transform=\"translate(-25.5 21.6708)\"><g class=\"a72 i7 leaf node n14 p0 sample\" transform=\"translate(27 316.378)\"><path class=\"edge\" d=\"M 0 0 V -316.378 H -27\" /><rect class=\"sym\" height=\"6\" style=\"fill:red;\" width=\"6\" x=\"-3\" y=\"-3\" /><text class=\"lab\" transform=\"translate(0 11)\">14</text></g><g class=\"a72 c2 node n68 p0\" transform=\"translate(-27 19.8409)\"><g class=\"a68 i1 leaf node n3 p0 sample\" transform=\"translate(-18 296.537)\"><path class=\"edge\" d=\"M 0 0 V -296.537 H 18\" /><rect class=\"sym\" height=\"6\" style=\"fill:red;\" width=\"6\" x=\"-3\" y=\"-3\" /><text class=\"lab\" transform=\"translate(0 11)\">3</text></g><g class=\"a68 c2 node n65 p0\" transform=\"translate(18 20.1908)\"><g class=\"a65 i2 leaf node n4 p0 sample\" transform=\"translate(-12 276.347)\"><path class=\"edge\" d=\"M 0 0 V -276.347 H 12\" /><rect class=\"sym\" height=\"6\" style=\"fill:red;\" width=\"6\" x=\"-3\" y=\"-3\" /><text class=\"lab\" transform=\"translate(0 11)\">4</text></g><g class=\"a65 i9 leaf node n18 p0 sample\" transform=\"translate(12 276.347)\"><path class=\"edge\" d=\"M 0 0 V -276.347 H -12\" /><rect class=\"sym\" height=\"6\" style=\"fill:red;\" width=\"6\" x=\"-3\" y=\"-3\" /><text class=\"lab\" transform=\"translate(0 11)\">18</text></g><path class=\"edge\" d=\"M 0 0 V -20.1908 H -18\" /><circle class=\"sym\" cx=\"0\" cy=\"0\" r=\"3\" /><text class=\"lab rgt\" transform=\"translate(3 -7.0)\">65</text></g><path class=\"edge\" d=\"M 0 0 V -19.8409 H 27\" /><circle class=\"sym\" cx=\"0\" cy=\"0\" r=\"3\" /><text class=\"lab lft\" transform=\"translate(-3 -7.0)\">68</text></g><path class=\"edge\" d=\"M 0 0 V -21.6708 H 25.5\" /><circle class=\"sym\" cx=\"0\" cy=\"0\" r=\"3\" /><text class=\"lab lft\" transform=\"translate(-3 -7.0)\">72</text></g><path class=\"edge\" d=\"M 0 0 V -103.351 H -322.582\" /><circle class=\"sym\" cx=\"0\" cy=\"0\" r=\"3\" /><text class=\"lab rgt\" transform=\"translate(3 -7.0)\">75</text></g><g class=\"a90 c2 node n89 p2\" transform=\"translate(-322.582 0.0943918)\"><g class=\"a89 c2 node n69 p0\" transform=\"translate(-220.336 141.184)\"><g class=\"a69 i2 leaf node n5 p0 sample\" transform=\"translate(27 300.122)\"><path class=\"edge\" d=\"M 0 0 V -300.122 H -27\" /><rect class=\"sym\" height=\"6\" style=\"fill:red;\" width=\"6\" x=\"-3\" y=\"-3\" /><text class=\"lab\" transform=\"translate(0 11)\">5</text></g><g class=\"a69 c2 node n54 p0\" transform=\"translate(-27 135.744)\"><g class=\"a54 i0 leaf node n0 p0 sample\" transform=\"translate(-18 164.377)\"><path class=\"edge\" d=\"M 0 0 V -164.377 H 18\" /><rect class=\"sym\" height=\"6\" style=\"fill:red;\" width=\"6\" x=\"-3\" y=\"-3\" /><text class=\"lab\" transform=\"translate(0 11)\">0</text></g><g class=\"a54 c2 node n48 p0\" transform=\"translate(18 77.8134)\"><g class=\"a48 i3 leaf node n6 p0 sample\" transform=\"translate(-12 86.5639)\"><path class=\"edge\" d=\"M 0 0 V -86.5639 H 12\" /><rect class=\"sym\" height=\"6\" style=\"fill:red;\" width=\"6\" x=\"-3\" y=\"-3\" /><text class=\"lab\" transform=\"translate(0 11)\">6</text></g><g class=\"a48 i5 leaf node n11 p0 sample\" transform=\"translate(12 86.5639)\"><path class=\"edge\" d=\"M 0 0 V -86.5639 H -12\" /><rect class=\"sym\" height=\"6\" style=\"fill:red;\" width=\"6\" x=\"-3\" y=\"-3\" /><text class=\"lab\" transform=\"translate(0 11)\">11</text></g><path class=\"edge\" d=\"M 0 0 V -77.8134 H -18\" /><circle class=\"sym\" cx=\"0\" cy=\"0\" r=\"3\" /><text class=\"lab rgt\" transform=\"translate(3 -7.0)\">48</text></g><path class=\"edge\" d=\"M 0 0 V -135.744 H 27\" /><circle class=\"sym\" cx=\"0\" cy=\"0\" r=\"3\" /><text class=\"lab lft\" transform=\"translate(-3 -7.0)\">54</text></g><path class=\"edge\" d=\"M 0 0 V -141.184 H 220.336\" /><circle class=\"sym\" cx=\"0\" cy=\"0\" r=\"3\" /><text class=\"lab lft\" transform=\"translate(-3 -7.0)\">69</text></g><g class=\"a89 c2 node n86 p2\" transform=\"translate(220.336 36.8733)\"><g class=\"a86 c2 node n60 p1\" transform=\"translate(232.172 160.989)\"><g class=\"a60 c2 node n58 p1\" transform=\"translate(-77.1562 48.9384)\"><g class=\"a58 i15 leaf node n31 p1 sample\" transform=\"translate(79.3125 194.505)\"><path class=\"edge\" d=\"M 0 0 V -194.505 H -79.3125\" /><rect class=\"sym\" height=\"6\" style=\"fill:blue;\" width=\"6\" x=\"-3\" y=\"-3\" /><text class=\"lab\" transform=\"translate(0 11)\">31</text></g><g class=\"a58 c2 node n57 p1\" transform=\"translate(-79.3125 7.55098)\"><g class=\"a57 c2 node n47 p1\" transform=\"translate(104.625 103.415)\"><g class=\"a47 i11 leaf node n22 p1 sample\" transform=\"translate(-18 83.5388)\"><path class=\"edge\" d=\"M 0 0 V -83.5388 H 18\" /><rect class=\"sym\" height=\"6\" style=\"fill:blue;\" width=\"6\" x=\"-3\" y=\"-3\" /><text class=\"lab\" transform=\"translate(0 11)\">22</text></g><g class=\"a47 c2 node n44 p1\" transform=\"translate(18 7.89255)\"><g class=\"a44 i11 leaf node n23 p1 sample\" transform=\"translate(-12 75.6462)\"><path class=\"edge\" d=\"M 0 0 V -75.6462 H 12\" /><rect class=\"sym\" height=\"6\" style=\"fill:blue;\" width=\"6\" x=\"-3\" y=\"-3\" /><text class=\"lab\" transform=\"translate(0 11)\">23</text></g><g class=\"a44 i18 leaf node n36 p1 sample\" transform=\"translate(12 75.6462)\"><path class=\"edge\" d=\"M 0 0 V -75.6462 H -12\" /><rect class=\"sym\" height=\"6\" style=\"fill:blue;\" width=\"6\" x=\"-3\" y=\"-3\" /><text class=\"lab\" transform=\"translate(0 11)\">36</text></g><path class=\"edge\" d=\"M 0 0 V -7.89255 H -18\" /><circle class=\"sym\" cx=\"0\" cy=\"0\" r=\"3\" /><text class=\"lab rgt\" transform=\"translate(3 -7.0)\">44</text></g><path class=\"edge\" d=\"M 0 0 V -103.415 H -104.625\" /><circle class=\"sym\" cx=\"0\" cy=\"0\" r=\"3\" /><text class=\"lab rgt\" transform=\"translate(3 -7.0)\">47</text></g><g class=\"a57 c2 node n55 p1\" transform=\"translate(-104.625 12.4438)\"><g class=\"a55 c2 node n52 p1\" transform=\"translate(84.75 15.2818)\"><g class=\"a52 c2 node n45 p1\" transform=\"translate(52.5 83.132)\"><g class=\"a45 i16 leaf node n32 p1 sample\" transform=\"translate(-18 76.0965)\"><path class=\"edge\" d=\"M 0 0 V -76.0965 H 18\" /><rect class=\"sym\" height=\"6\" style=\"fill:blue;\" width=\"6\" x=\"-3\" y=\"-3\" /><text class=\"lab\" transform=\"translate(0 11)\">32</text></g><g class=\"a45 c2 node n41 p1\" transform=\"translate(18 40.9504)\"><g class=\"a41 i17 leaf node n34 p1 sample\" transform=\"translate(-12 35.1461)\"><path class=\"edge\" d=\"M 0 0 V -35.1461 H 12\" /><rect class=\"sym\" height=\"6\" style=\"fill:blue;\" width=\"6\" x=\"-3\" y=\"-3\" /><text class=\"lab\" transform=\"translate(0 11)\">34</text></g><g class=\"a41 i19 leaf node n38 p1 sample\" transform=\"translate(12 35.1461)\"><path class=\"edge\" d=\"M 0 0 V -35.1461 H -12\" /><rect class=\"sym\" height=\"6\" style=\"fill:blue;\" width=\"6\" x=\"-3\" y=\"-3\" /><text class=\"lab\" transform=\"translate(0 11)\">38</text></g><path class=\"edge\" d=\"M 0 0 V -40.9504 H -18\" /><circle class=\"sym\" cx=\"0\" cy=\"0\" r=\"3\" /><text class=\"lab rgt\" transform=\"translate(3 -7.0)\">41</text></g><path class=\"edge\" d=\"M 0 0 V -83.132 H -52.5\" /><circle class=\"sym\" cx=\"0\" cy=\"0\" r=\"3\" /><text class=\"lab rgt\" transform=\"translate(3 -7.0)\">45</text></g><g class=\"a52 c2 node n51 p1\" transform=\"translate(-52.5 9.31488)\"><g class=\"a51 c2 node n43 p1\" transform=\"translate(-45 92.1354)\"><g class=\"a43 c2 node n40 p1\" transform=\"translate(-24 46.6805)\"><g class=\"a40 i10 leaf node n21 p1 sample\" transform=\"translate(-12 11.0978)\"><path class=\"edge\" d=\"M 0 0 V -11.0978 H 12\" /><rect class=\"sym\" height=\"6\" style=\"fill:blue;\" width=\"6\" x=\"-3\" y=\"-3\" /><text class=\"lab\" transform=\"translate(0 11)\">21</text></g><g class=\"a40 i15 leaf node n30 p1 sample\" transform=\"translate(12 11.0978)\"><path class=\"edge\" d=\"M 0 0 V -11.0978 H -12\" /><rect class=\"sym\" height=\"6\" style=\"fill:blue;\" width=\"6\" x=\"-3\" y=\"-3\" /><text class=\"lab\" transform=\"translate(0 11)\">30</text></g><path class=\"edge\" d=\"M 0 0 V -46.6805 H 24\" /><circle class=\"sym\" cx=\"0\" cy=\"0\" r=\"3\" /><text class=\"lab lft\" transform=\"translate(-3 -7.0)\">40</text></g><g class=\"a43 c2 node n42 p1\" transform=\"translate(24 13.8297)\"><g class=\"a42 i12 leaf node n25 p1 sample\" transform=\"translate(-12 43.9486)\"><path class=\"edge\" d=\"M 0 0 V -43.9486 H 12\" /><rect class=\"sym\" height=\"6\" style=\"fill:blue;\" width=\"6\" x=\"-3\" y=\"-3\" /><text class=\"lab\" transform=\"translate(0 11)\">25</text></g><g class=\"a42 i14 leaf node n29 p1 sample\" transform=\"translate(12 43.9486)\"><path class=\"edge\" d=\"M 0 0 V -43.9486 H -12\" /><rect class=\"sym\" height=\"6\" style=\"fill:blue;\" width=\"6\" x=\"-3\" y=\"-3\" /><text class=\"lab\" transform=\"translate(0 11)\">29</text></g><path class=\"edge\" d=\"M 0 0 V -13.8297 H -24\" /><circle class=\"sym\" cx=\"0\" cy=\"0\" r=\"3\" /><text class=\"lab rgt\" transform=\"translate(3 -7.0)\">42</text></g><path class=\"edge\" d=\"M 0 0 V -92.1354 H 45\" /><circle class=\"sym\" cx=\"0\" cy=\"0\" r=\"3\" /><text class=\"lab lft\" transform=\"translate(-3 -7.0)\">43</text></g><g class=\"a51 c2 node n50 p1\" transform=\"translate(45 20.9503)\"><g class=\"a50 i18 leaf node n37 p1 sample\" transform=\"translate(18 128.963)\"><path class=\"edge\" d=\"M 0 0 V -128.963 H -18\" /><rect class=\"sym\" height=\"6\" style=\"fill:blue;\" width=\"6\" x=\"-3\" y=\"-3\" /><text class=\"lab\" transform=\"translate(0 11)\">37</text></g><g class=\"a50 c2 node n46 p1\" transform=\"translate(-18 46.8849)\"><g class=\"a46 i12 leaf node n24 p1 sample\" transform=\"translate(-12 82.0784)\"><path class=\"edge\" d=\"M 0 0 V -82.0784 H 12\" /><rect class=\"sym\" height=\"6\" style=\"fill:blue;\" width=\"6\" x=\"-3\" y=\"-3\" /><text class=\"lab\" transform=\"translate(0 11)\">24</text></g><g class=\"a46 i17 leaf node n35 p1 sample\" transform=\"translate(12 82.0784)\"><path class=\"edge\" d=\"M 0 0 V -82.0784 H -12\" /><rect class=\"sym\" height=\"6\" style=\"fill:blue;\" width=\"6\" x=\"-3\" y=\"-3\" /><text class=\"lab\" transform=\"translate(0 11)\">35</text></g><path class=\"edge\" d=\"M 0 0 V -46.8849 H 18\" /><circle class=\"sym\" cx=\"0\" cy=\"0\" r=\"3\" /><text class=\"lab lft\" transform=\"translate(-3 -7.0)\">46</text></g><path class=\"edge\" d=\"M 0 0 V -20.9503 H -45\" /><circle class=\"sym\" cx=\"0\" cy=\"0\" r=\"3\" /><text class=\"lab rgt\" transform=\"translate(3 -7.0)\">50</text></g><path class=\"edge\" d=\"M 0 0 V -9.31488 H 52.5\" /><circle class=\"sym\" cx=\"0\" cy=\"0\" r=\"3\" /><text class=\"lab lft\" transform=\"translate(-3 -7.0)\">51</text></g><path class=\"edge\" d=\"M 0 0 V -15.2818 H -84.75\" /><circle class=\"sym\" cx=\"0\" cy=\"0\" r=\"3\" /><text class=\"lab rgt\" transform=\"translate(3 -7.0)\">52</text></g><g class=\"a55 c2 node n53 p1\" transform=\"translate(-84.75 10.2197)\"><g class=\"a53 i10 leaf node n20 p1 sample\" transform=\"translate(-12 164.291)\"><path class=\"edge\" d=\"M 0 0 V -164.291 H 12\" /><rect class=\"sym\" height=\"6\" style=\"fill:blue;\" width=\"6\" x=\"-3\" y=\"-3\" /><text class=\"lab\" transform=\"translate(0 11)\">20</text></g><g class=\"a53 i19 leaf node n39 p1 sample\" transform=\"translate(12 164.291)\"><path class=\"edge\" d=\"M 0 0 V -164.291 H -12\" /><rect class=\"sym\" height=\"6\" style=\"fill:blue;\" width=\"6\" x=\"-3\" y=\"-3\" /><text class=\"lab\" transform=\"translate(0 11)\">39</text></g><path class=\"edge\" d=\"M 0 0 V -10.2197 H 84.75\" /><circle class=\"sym\" cx=\"0\" cy=\"0\" r=\"3\" /><text class=\"lab lft\" transform=\"translate(-3 -7.0)\">53</text></g><path class=\"edge\" d=\"M 0 0 V -12.4438 H 104.625\" /><circle class=\"sym\" cx=\"0\" cy=\"0\" r=\"3\" /><text class=\"lab lft\" transform=\"translate(-3 -7.0)\">55</text></g><path class=\"edge\" d=\"M 0 0 V -7.55098 H 79.3125\" /><circle class=\"sym\" cx=\"0\" cy=\"0\" r=\"3\" /><text class=\"lab lft\" transform=\"translate(-3 -7.0)\">57</text></g><path class=\"edge\" d=\"M 0 0 V -48.9384 H 77.1562\" /><circle class=\"sym\" cx=\"0\" cy=\"0\" r=\"3\" /><text class=\"lab lft\" transform=\"translate(-3 -7.0)\">58</text></g><g class=\"a60 c2 node n59 p1\" transform=\"translate(77.1562 12.5641)\"><g class=\"a59 i14 leaf node n28 p1 sample\" transform=\"translate(21 230.879)\"><path class=\"edge\" d=\"M 0 0 V -230.879 H -21\" /><rect class=\"sym\" height=\"6\" style=\"fill:blue;\" width=\"6\" x=\"-3\" y=\"-3\" /><text class=\"lab\" transform=\"translate(0 11)\">28</text></g><g class=\"a59 c2 node n56 p1\" transform=\"translate(-21 55.5946)\"><g class=\"a56 i13 leaf node n27 p1 sample\" transform=\"translate(18 175.285)\"><path class=\"edge\" d=\"M 0 0 V -175.285 H -18\" /><rect class=\"sym\" height=\"6\" style=\"fill:blue;\" width=\"6\" x=\"-3\" y=\"-3\" /><text class=\"lab\" transform=\"translate(0 11)\">27</text></g><g class=\"a56 c2 node n49 p1\" transform=\"translate(-18 67.4345)\"><g class=\"a49 i13 leaf node n26 p1 sample\" transform=\"translate(-12 107.85)\"><path class=\"edge\" d=\"M 0 0 V -107.85 H 12\" /><rect class=\"sym\" height=\"6\" style=\"fill:blue;\" width=\"6\" x=\"-3\" y=\"-3\" /><text class=\"lab\" transform=\"translate(0 11)\">26</text></g><g class=\"a49 i16 leaf node n33 p1 sample\" transform=\"translate(12 107.85)\"><path class=\"edge\" d=\"M 0 0 V -107.85 H -12\" /><rect class=\"sym\" height=\"6\" style=\"fill:blue;\" width=\"6\" x=\"-3\" y=\"-3\" /><text class=\"lab\" transform=\"translate(0 11)\">33</text></g><path class=\"edge\" d=\"M 0 0 V -67.4345 H 18\" /><circle class=\"sym\" cx=\"0\" cy=\"0\" r=\"3\" /><text class=\"lab lft\" transform=\"translate(-3 -7.0)\">49</text></g><path class=\"edge\" d=\"M 0 0 V -55.5946 H 21\" /><circle class=\"sym\" cx=\"0\" cy=\"0\" r=\"3\" /><text class=\"lab lft\" transform=\"translate(-3 -7.0)\">56</text></g><path class=\"edge\" d=\"M 0 0 V -12.5641 H -77.1562\" /><circle class=\"sym\" cx=\"0\" cy=\"0\" r=\"3\" /><text class=\"lab rgt\" transform=\"translate(3 -7.0)\">59</text></g><path class=\"edge\" d=\"M 0 0 V -160.989 H -232.172\" /><circle class=\"sym\" cx=\"0\" cy=\"0\" r=\"3\" /><text class=\"lab rgt\" transform=\"translate(3 -7.0)\">60</text></g><g class=\"a86 c2 node n85 p2\" transform=\"translate(-232.172 9.60912)\"><g class=\"a85 c2 node n61 p0\" transform=\"translate(70.5 142.749)\"><g class=\"a61 i4 leaf node n9 p0 sample\" transform=\"translate(-12 252.074)\"><path class=\"edge\" d=\"M 0 0 V -252.074 H 12\" /><rect class=\"sym\" height=\"6\" style=\"fill:red;\" width=\"6\" x=\"-3\" y=\"-3\" /><text class=\"lab\" transform=\"translate(0 11)\">9</text></g><g class=\"a61 i5 leaf node n10 p0 sample\" transform=\"translate(12 252.074)\"><path class=\"edge\" d=\"M 0 0 V -252.074 H -12\" /><rect class=\"sym\" height=\"6\" style=\"fill:red;\" width=\"6\" x=\"-3\" y=\"-3\" /><text class=\"lab\" transform=\"translate(0 11)\">10</text></g><path class=\"edge\" d=\"M 0 0 V -142.749 H -70.5\" /><circle class=\"sym\" cx=\"0\" cy=\"0\" r=\"3\" /><text class=\"lab rgt\" transform=\"translate(3 -7.0)\">61</text></g><g class=\"a85 c2 node n79 p0\" transform=\"translate(-70.5 34.646)\"><g class=\"a79 c2 node n77 p0\" transform=\"translate(60 8.98144)\"><g class=\"a77 c2 node n73 p0\" transform=\"translate(-33 33.1908)\"><g class=\"a73 i3 leaf node n7 p0 sample\" transform=\"translate(-18 318.005)\"><path class=\"edge\" d=\"M 0 0 V -318.005 H 18\" /><rect class=\"sym\" height=\"6\" style=\"fill:red;\" width=\"6\" x=\"-3\" y=\"-3\" /><text class=\"lab\" transform=\"translate(0 11)\">7</text></g><g class=\"a73 c2 node n67 p0\" transform=\"translate(18 23.7492)\"><g class=\"a67 i4 leaf node n8 p0 sample\" transform=\"translate(-12 294.256)\"><path class=\"edge\" d=\"M 0 0 V -294.256 H 12\" /><rect class=\"sym\" height=\"6\" style=\"fill:red;\" width=\"6\" x=\"-3\" y=\"-3\" /><text class=\"lab\" transform=\"translate(0 11)\">8</text></g><g class=\"a67 i6 leaf node n13 p0 sample\" transform=\"translate(12 294.256)\"><path class=\"edge\" d=\"M 0 0 V -294.256 H -12\" /><rect class=\"sym\" height=\"6\" style=\"fill:red;\" width=\"6\" x=\"-3\" y=\"-3\" /><text class=\"lab\" transform=\"translate(0 11)\">13</text></g><path class=\"edge\" d=\"M 0 0 V -23.7492 H -18\" /><circle class=\"sym\" cx=\"0\" cy=\"0\" r=\"3\" /><text class=\"lab rgt\" transform=\"translate(3 -7.0)\">67</text></g><path class=\"edge\" d=\"M 0 0 V -33.1908 H 33\" /><circle class=\"sym\" cx=\"0\" cy=\"0\" r=\"3\" /><text class=\"lab lft\" transform=\"translate(-3 -7.0)\">73</text></g><g class=\"a77 c2 node n74 p0\" transform=\"translate(33 27.8205)\"><g class=\"a74 i8 leaf node n17 p0 sample\" transform=\"translate(-12 323.375)\"><path class=\"edge\" d=\"M 0 0 V -323.375 H 12\" /><rect class=\"sym\" height=\"6\" style=\"fill:red;\" width=\"6\" x=\"-3\" y=\"-3\" /><text class=\"lab\" transform=\"translate(0 11)\">17</text></g><g class=\"a74 i9 leaf node n19 p0 sample\" transform=\"translate(12 323.375)\"><path class=\"edge\" d=\"M 0 0 V -323.375 H -12\" /><rect class=\"sym\" height=\"6\" style=\"fill:red;\" width=\"6\" x=\"-3\" y=\"-3\" /><text class=\"lab\" transform=\"translate(0 11)\">19</text></g><path class=\"edge\" d=\"M 0 0 V -27.8205 H -33\" /><circle class=\"sym\" cx=\"0\" cy=\"0\" r=\"3\" /><text class=\"lab rgt\" transform=\"translate(3 -7.0)\">74</text></g><path class=\"edge\" d=\"M 0 0 V -8.98144 H -60\" /><circle class=\"sym\" cx=\"0\" cy=\"0\" r=\"3\" /><text class=\"lab rgt\" transform=\"translate(3 -7.0)\">77</text></g><g class=\"a79 c2 node n78 p0\" transform=\"translate(-60 2.84082)\"><g class=\"a78 i0 leaf node n1 p0 sample\" transform=\"translate(-27 357.336)\"><path class=\"edge\" d=\"M 0 0 V -357.336 H 27\" /><rect class=\"sym\" height=\"6\" style=\"fill:red;\" width=\"6\" x=\"-3\" y=\"-3\" /><text class=\"lab\" transform=\"translate(0 11)\">1</text></g><g class=\"a78 c2 node n66 p0\" transform=\"translate(27 73.8959)\"><g class=\"a66 i7 leaf node n15 p0 sample\" transform=\"translate(18 283.44)\"><path class=\"edge\" d=\"M 0 0 V -283.44 H -18\" /><rect class=\"sym\" height=\"6\" style=\"fill:red;\" width=\"6\" x=\"-3\" y=\"-3\" /><text class=\"lab\" transform=\"translate(0 11)\">15</text></g><g class=\"a66 c2 node n64 p0\" transform=\"translate(-18 9.76164)\"><g class=\"a64 i1 leaf node n2 p0 sample\" transform=\"translate(-12 273.679)\"><path class=\"edge\" d=\"M 0 0 V -273.679 H 12\" /><rect class=\"sym\" height=\"6\" style=\"fill:red;\" width=\"6\" x=\"-3\" y=\"-3\" /><text class=\"lab\" transform=\"translate(0 11)\">2</text></g><g class=\"a64 i6 leaf node n12 p0 sample\" transform=\"translate(12 273.679)\"><path class=\"edge\" d=\"M 0 0 V -273.679 H -12\" /><rect class=\"sym\" height=\"6\" style=\"fill:red;\" width=\"6\" x=\"-3\" y=\"-3\" /><text class=\"lab\" transform=\"translate(0 11)\">12</text></g><path class=\"edge\" d=\"M 0 0 V -9.76164 H 18\" /><circle class=\"sym\" cx=\"0\" cy=\"0\" r=\"3\" /><text class=\"lab lft\" transform=\"translate(-3 -7.0)\">64</text></g><path class=\"edge\" d=\"M 0 0 V -73.8959 H -27\" /><circle class=\"sym\" cx=\"0\" cy=\"0\" r=\"3\" /><text class=\"lab rgt\" transform=\"translate(3 -7.0)\">66</text></g><path class=\"edge\" d=\"M 0 0 V -2.84082 H 60\" /><circle class=\"sym\" cx=\"0\" cy=\"0\" r=\"3\" /><text class=\"lab lft\" transform=\"translate(-3 -7.0)\">78</text></g><path class=\"edge\" d=\"M 0 0 V -34.646 H 70.5\" /><circle class=\"sym\" cx=\"0\" cy=\"0\" r=\"3\" /><text class=\"lab lft\" transform=\"translate(-3 -7.0)\">79</text></g><path class=\"edge\" d=\"M 0 0 V -9.60912 H 232.172\" /><circle class=\"sym\" cx=\"0\" cy=\"0\" r=\"3\" /><text class=\"lab lft\" transform=\"translate(-3 -7.0)\">85</text></g><path class=\"edge\" d=\"M 0 0 V -36.8733 H -220.336\" /><circle class=\"sym\" cx=\"0\" cy=\"0\" r=\"3\" /><text class=\"lab rgt\" transform=\"translate(3 -7.0)\">86</text></g><path class=\"edge\" d=\"M 0 0 V -0.0943918 H 322.582\" /><circle class=\"sym\" cx=\"0\" cy=\"0\" r=\"3\" /><text class=\"lab lft\" transform=\"translate(-3 -7.0)\">89</text></g><circle class=\"sym\" cx=\"0\" cy=\"0\" r=\"3\" /><text class=\"lab\" transform=\"translate(0 -11)\">90</text></g></g></g></svg>"
      ],
      "text/plain": [
       "'<svg baseProfile=\"full\" height=\"500\" version=\"1.1\" width=\"1000\" xmlns=\"http://www.w3.org/2000/svg\" xmlns:ev=\"http://www.w3.org/2001/xml-events\" xmlns:xlink=\"http://www.w3.org/1999/xlink\"><defs><style type=\"text/css\"><![CDATA[.background path {fill: #808080; fill-opacity: 0}.background path:nth-child(odd) {fill-opacity: .1}.axes {font-size: 14px}.x-axis .tick .lab {font-weight: bold; dominant-baseline: hanging}.axes, .tree {font-size: 14px; text-anchor: middle}.axes line, .edge {stroke: black; fill: none}.axes .ax-skip {stroke-dasharray: 4}.y-axis .grid {stroke: #FAFAFA}.node > .sym {fill: black; stroke: none}.site > .sym {stroke: black}.mut text {fill: red; font-style: italic}.mut.extra text {fill: hotpink}.mut line {fill: none; stroke: none}.mut .sym {fill: none; stroke: red}.mut.extra .sym {stroke: hotpink}.node .mut .sym {stroke-width: 1.5px}.tree text, .tree-sequence text {dominant-baseline: central}.plotbox .lab.lft {text-anchor: end}.plotbox .lab.rgt {text-anchor: start}]]></style></defs><g class=\"tree t0\"><g class=\"plotbox\"><g class=\"c2 node n90 p2 root\" transform=\"translate(619.918 26.8)\"><g class=\"a90 c2 node n75 p0\" transform=\"translate(322.582 103.351)\"><g class=\"a75 i8 leaf node n16 p0 sample\" transform=\"translate(25.5 338.049)\"><path class=\"edge\" d=\"M 0 0 V -338.049 H -25.5\" /><rect class=\"sym\" height=\"6\" style=\"fill:red;\" width=\"6\" x=\"-3\" y=\"-3\" /><text class=\"lab\" transform=\"translate(0 11)\">16</text></g><g class=\"a75 c2 node n72 p0\" transform=\"translate(-25.5 21.6708)\"><g class=\"a72 i7 leaf node n14 p0 sample\" transform=\"translate(27 316.378)\"><path class=\"edge\" d=\"M 0 0 V -316.378 H -27\" /><rect class=\"sym\" height=\"6\" style=\"fill:red;\" width=\"6\" x=\"-3\" y=\"-3\" /><text class=\"lab\" transform=\"translate(0 11)\">14</text></g><g class=\"a72 c2 node n68 p0\" transform=\"translate(-27 19.8409)\"><g class=\"a68 i1 leaf node n3 p0 sample\" transform=\"translate(-18 296.537)\"><path class=\"edge\" d=\"M 0 0 V -296.537 H 18\" /><rect class=\"sym\" height=\"6\" style=\"fill:red;\" width=\"6\" x=\"-3\" y=\"-3\" /><text class=\"lab\" transform=\"translate(0 11)\">3</text></g><g class=\"a68 c2 node n65 p0\" transform=\"translate(18 20.1908)\"><g class=\"a65 i2 leaf node n4 p0 sample\" transform=\"translate(-12 276.347)\"><path class=\"edge\" d=\"M 0 0 V -276.347 H 12\" /><rect class=\"sym\" height=\"6\" style=\"fill:red;\" width=\"6\" x=\"-3\" y=\"-3\" /><text class=\"lab\" transform=\"translate(0 11)\">4</text></g><g class=\"a65 i9 leaf node n18 p0 sample\" transform=\"translate(12 276.347)\"><path class=\"edge\" d=\"M 0 0 V -276.347 H -12\" /><rect class=\"sym\" height=\"6\" style=\"fill:red;\" width=\"6\" x=\"-3\" y=\"-3\" /><text class=\"lab\" transform=\"translate(0 11)\">18</text></g><path class=\"edge\" d=\"M 0 0 V -20.1908 H -18\" /><circle class=\"sym\" cx=\"0\" cy=\"0\" r=\"3\" /><text class=\"lab rgt\" transform=\"translate(3 -7.0)\">65</text></g><path class=\"edge\" d=\"M 0 0 V -19.8409 H 27\" /><circle class=\"sym\" cx=\"0\" cy=\"0\" r=\"3\" /><text class=\"lab lft\" transform=\"translate(-3 -7.0)\">68</text></g><path class=\"edge\" d=\"M 0 0 V -21.6708 H 25.5\" /><circle class=\"sym\" cx=\"0\" cy=\"0\" r=\"3\" /><text class=\"lab lft\" transform=\"translate(-3 -7.0)\">72</text></g><path class=\"edge\" d=\"M 0 0 V -103.351 H -322.582\" /><circle class=\"sym\" cx=\"0\" cy=\"0\" r=\"3\" /><text class=\"lab rgt\" transform=\"translate(3 -7.0)\">75</text></g><g class=\"a90 c2 node n89 p2\" transform=\"translate(-322.582 0.0943918)\"><g class=\"a89 c2 node n69 p0\" transform=\"translate(-220.336 141.184)\"><g class=\"a69 i2 leaf node n5 p0 sample\" transform=\"translate(27 300.122)\"><path class=\"edge\" d=\"M 0 0 V -300.122 H -27\" /><rect class=\"sym\" height=\"6\" style=\"fill:red;\" width=\"6\" x=\"-3\" y=\"-3\" /><text class=\"lab\" transform=\"translate(0 11)\">5</text></g><g class=\"a69 c2 node n54 p0\" transform=\"translate(-27 135.744)\"><g class=\"a54 i0 leaf node n0 p0 sample\" transform=\"translate(-18 164.377)\"><path class=\"edge\" d=\"M 0 0 V -164.377 H 18\" /><rect class=\"sym\" height=\"6\" style=\"fill:red;\" width=\"6\" x=\"-3\" y=\"-3\" /><text class=\"lab\" transform=\"translate(0 11)\">0</text></g><g class=\"a54 c2 node n48 p0\" transform=\"translate(18 77.8134)\"><g class=\"a48 i3 leaf node n6 p0 sample\" transform=\"translate(-12 86.5639)\"><path class=\"edge\" d=\"M 0 0 V -86.5639 H 12\" /><rect class=\"sym\" height=\"6\" style=\"fill:red;\" width=\"6\" x=\"-3\" y=\"-3\" /><text class=\"lab\" transform=\"translate(0 11)\">6</text></g><g class=\"a48 i5 leaf node n11 p0 sample\" transform=\"translate(12 86.5639)\"><path class=\"edge\" d=\"M 0 0 V -86.5639 H -12\" /><rect class=\"sym\" height=\"6\" style=\"fill:red;\" width=\"6\" x=\"-3\" y=\"-3\" /><text class=\"lab\" transform=\"translate(0 11)\">11</text></g><path class=\"edge\" d=\"M 0 0 V -77.8134 H -18\" /><circle class=\"sym\" cx=\"0\" cy=\"0\" r=\"3\" /><text class=\"lab rgt\" transform=\"translate(3 -7.0)\">48</text></g><path class=\"edge\" d=\"M 0 0 V -135.744 H 27\" /><circle class=\"sym\" cx=\"0\" cy=\"0\" r=\"3\" /><text class=\"lab lft\" transform=\"translate(-3 -7.0)\">54</text></g><path class=\"edge\" d=\"M 0 0 V -141.184 H 220.336\" /><circle class=\"sym\" cx=\"0\" cy=\"0\" r=\"3\" /><text class=\"lab lft\" transform=\"translate(-3 -7.0)\">69</text></g><g class=\"a89 c2 node n86 p2\" transform=\"translate(220.336 36.8733)\"><g class=\"a86 c2 node n60 p1\" transform=\"translate(232.172 160.989)\"><g class=\"a60 c2 node n58 p1\" transform=\"translate(-77.1562 48.9384)\"><g class=\"a58 i15 leaf node n31 p1 sample\" transform=\"translate(79.3125 194.505)\"><path class=\"edge\" d=\"M 0 0 V -194.505 H -79.3125\" /><rect class=\"sym\" height=\"6\" style=\"fill:blue;\" width=\"6\" x=\"-3\" y=\"-3\" /><text class=\"lab\" transform=\"translate(0 11)\">31</text></g><g class=\"a58 c2 node n57 p1\" transform=\"translate(-79.3125 7.55098)\"><g class=\"a57 c2 node n47 p1\" transform=\"translate(104.625 103.415)\"><g class=\"a47 i11 leaf node n22 p1 sample\" transform=\"translate(-18 83.5388)\"><path class=\"edge\" d=\"M 0 0 V -83.5388 H 18\" /><rect class=\"sym\" height=\"6\" style=\"fill:blue;\" width=\"6\" x=\"-3\" y=\"-3\" /><text class=\"lab\" transform=\"translate(0 11)\">22</text></g><g class=\"a47 c2 node n44 p1\" transform=\"translate(18 7.89255)\"><g class=\"a44 i11 leaf node n23 p1 sample\" transform=\"translate(-12 75.6462)\"><path class=\"edge\" d=\"M 0 0 V -75.6462 H 12\" /><rect class=\"sym\" height=\"6\" style=\"fill:blue;\" width=\"6\" x=\"-3\" y=\"-3\" /><text class=\"lab\" transform=\"translate(0 11)\">23</text></g><g class=\"a44 i18 leaf node n36 p1 sample\" transform=\"translate(12 75.6462)\"><path class=\"edge\" d=\"M 0 0 V -75.6462 H -12\" /><rect class=\"sym\" height=\"6\" style=\"fill:blue;\" width=\"6\" x=\"-3\" y=\"-3\" /><text class=\"lab\" transform=\"translate(0 11)\">36</text></g><path class=\"edge\" d=\"M 0 0 V -7.89255 H -18\" /><circle class=\"sym\" cx=\"0\" cy=\"0\" r=\"3\" /><text class=\"lab rgt\" transform=\"translate(3 -7.0)\">44</text></g><path class=\"edge\" d=\"M 0 0 V -103.415 H -104.625\" /><circle class=\"sym\" cx=\"0\" cy=\"0\" r=\"3\" /><text class=\"lab rgt\" transform=\"translate(3 -7.0)\">47</text></g><g class=\"a57 c2 node n55 p1\" transform=\"translate(-104.625 12.4438)\"><g class=\"a55 c2 node n52 p1\" transform=\"translate(84.75 15.2818)\"><g class=\"a52 c2 node n45 p1\" transform=\"translate(52.5 83.132)\"><g class=\"a45 i16 leaf node n32 p1 sample\" transform=\"translate(-18 76.0965)\"><path class=\"edge\" d=\"M 0 0 V -76.0965 H 18\" /><rect class=\"sym\" height=\"6\" style=\"fill:blue;\" width=\"6\" x=\"-3\" y=\"-3\" /><text class=\"lab\" transform=\"translate(0 11)\">32</text></g><g class=\"a45 c2 node n41 p1\" transform=\"translate(18 40.9504)\"><g class=\"a41 i17 leaf node n34 p1 sample\" transform=\"translate(-12 35.1461)\"><path class=\"edge\" d=\"M 0 0 V -35.1461 H 12\" /><rect class=\"sym\" height=\"6\" style=\"fill:blue;\" width=\"6\" x=\"-3\" y=\"-3\" /><text class=\"lab\" transform=\"translate(0 11)\">34</text></g><g class=\"a41 i19 leaf node n38 p1 sample\" transform=\"translate(12 35.1461)\"><path class=\"edge\" d=\"M 0 0 V -35.1461 H -12\" /><rect class=\"sym\" height=\"6\" style=\"fill:blue;\" width=\"6\" x=\"-3\" y=\"-3\" /><text class=\"lab\" transform=\"translate(0 11)\">38</text></g><path class=\"edge\" d=\"M 0 0 V -40.9504 H -18\" /><circle class=\"sym\" cx=\"0\" cy=\"0\" r=\"3\" /><text class=\"lab rgt\" transform=\"translate(3 -7.0)\">41</text></g><path class=\"edge\" d=\"M 0 0 V -83.132 H -52.5\" /><circle class=\"sym\" cx=\"0\" cy=\"0\" r=\"3\" /><text class=\"lab rgt\" transform=\"translate(3 -7.0)\">45</text></g><g class=\"a52 c2 node n51 p1\" transform=\"translate(-52.5 9.31488)\"><g class=\"a51 c2 node n43 p1\" transform=\"translate(-45 92.1354)\"><g class=\"a43 c2 node n40 p1\" transform=\"translate(-24 46.6805)\"><g class=\"a40 i10 leaf node n21 p1 sample\" transform=\"translate(-12 11.0978)\"><path class=\"edge\" d=\"M 0 0 V -11.0978 H 12\" /><rect class=\"sym\" height=\"6\" style=\"fill:blue;\" width=\"6\" x=\"-3\" y=\"-3\" /><text class=\"lab\" transform=\"translate(0 11)\">21</text></g><g class=\"a40 i15 leaf node n30 p1 sample\" transform=\"translate(12 11.0978)\"><path class=\"edge\" d=\"M 0 0 V -11.0978 H -12\" /><rect class=\"sym\" height=\"6\" style=\"fill:blue;\" width=\"6\" x=\"-3\" y=\"-3\" /><text class=\"lab\" transform=\"translate(0 11)\">30</text></g><path class=\"edge\" d=\"M 0 0 V -46.6805 H 24\" /><circle class=\"sym\" cx=\"0\" cy=\"0\" r=\"3\" /><text class=\"lab lft\" transform=\"translate(-3 -7.0)\">40</text></g><g class=\"a43 c2 node n42 p1\" transform=\"translate(24 13.8297)\"><g class=\"a42 i12 leaf node n25 p1 sample\" transform=\"translate(-12 43.9486)\"><path class=\"edge\" d=\"M 0 0 V -43.9486 H 12\" /><rect class=\"sym\" height=\"6\" style=\"fill:blue;\" width=\"6\" x=\"-3\" y=\"-3\" /><text class=\"lab\" transform=\"translate(0 11)\">25</text></g><g class=\"a42 i14 leaf node n29 p1 sample\" transform=\"translate(12 43.9486)\"><path class=\"edge\" d=\"M 0 0 V -43.9486 H -12\" /><rect class=\"sym\" height=\"6\" style=\"fill:blue;\" width=\"6\" x=\"-3\" y=\"-3\" /><text class=\"lab\" transform=\"translate(0 11)\">29</text></g><path class=\"edge\" d=\"M 0 0 V -13.8297 H -24\" /><circle class=\"sym\" cx=\"0\" cy=\"0\" r=\"3\" /><text class=\"lab rgt\" transform=\"translate(3 -7.0)\">42</text></g><path class=\"edge\" d=\"M 0 0 V -92.1354 H 45\" /><circle class=\"sym\" cx=\"0\" cy=\"0\" r=\"3\" /><text class=\"lab lft\" transform=\"translate(-3 -7.0)\">43</text></g><g class=\"a51 c2 node n50 p1\" transform=\"translate(45 20.9503)\"><g class=\"a50 i18 leaf node n37 p1 sample\" transform=\"translate(18 128.963)\"><path class=\"edge\" d=\"M 0 0 V -128.963 H -18\" /><rect class=\"sym\" height=\"6\" style=\"fill:blue;\" width=\"6\" x=\"-3\" y=\"-3\" /><text class=\"lab\" transform=\"translate(0 11)\">37</text></g><g class=\"a50 c2 node n46 p1\" transform=\"translate(-18 46.8849)\"><g class=\"a46 i12 leaf node n24 p1 sample\" transform=\"translate(-12 82.0784)\"><path class=\"edge\" d=\"M 0 0 V -82.0784 H 12\" /><rect class=\"sym\" height=\"6\" style=\"fill:blue;\" width=\"6\" x=\"-3\" y=\"-3\" /><text class=\"lab\" transform=\"translate(0 11)\">24</text></g><g class=\"a46 i17 leaf node n35 p1 sample\" transform=\"translate(12 82.0784)\"><path class=\"edge\" d=\"M 0 0 V -82.0784 H -12\" /><rect class=\"sym\" height=\"6\" style=\"fill:blue;\" width=\"6\" x=\"-3\" y=\"-3\" /><text class=\"lab\" transform=\"translate(0 11)\">35</text></g><path class=\"edge\" d=\"M 0 0 V -46.8849 H 18\" /><circle class=\"sym\" cx=\"0\" cy=\"0\" r=\"3\" /><text class=\"lab lft\" transform=\"translate(-3 -7.0)\">46</text></g><path class=\"edge\" d=\"M 0 0 V -20.9503 H -45\" /><circle class=\"sym\" cx=\"0\" cy=\"0\" r=\"3\" /><text class=\"lab rgt\" transform=\"translate(3 -7.0)\">50</text></g><path class=\"edge\" d=\"M 0 0 V -9.31488 H 52.5\" /><circle class=\"sym\" cx=\"0\" cy=\"0\" r=\"3\" /><text class=\"lab lft\" transform=\"translate(-3 -7.0)\">51</text></g><path class=\"edge\" d=\"M 0 0 V -15.2818 H -84.75\" /><circle class=\"sym\" cx=\"0\" cy=\"0\" r=\"3\" /><text class=\"lab rgt\" transform=\"translate(3 -7.0)\">52</text></g><g class=\"a55 c2 node n53 p1\" transform=\"translate(-84.75 10.2197)\"><g class=\"a53 i10 leaf node n20 p1 sample\" transform=\"translate(-12 164.291)\"><path class=\"edge\" d=\"M 0 0 V -164.291 H 12\" /><rect class=\"sym\" height=\"6\" style=\"fill:blue;\" width=\"6\" x=\"-3\" y=\"-3\" /><text class=\"lab\" transform=\"translate(0 11)\">20</text></g><g class=\"a53 i19 leaf node n39 p1 sample\" transform=\"translate(12 164.291)\"><path class=\"edge\" d=\"M 0 0 V -164.291 H -12\" /><rect class=\"sym\" height=\"6\" style=\"fill:blue;\" width=\"6\" x=\"-3\" y=\"-3\" /><text class=\"lab\" transform=\"translate(0 11)\">39</text></g><path class=\"edge\" d=\"M 0 0 V -10.2197 H 84.75\" /><circle class=\"sym\" cx=\"0\" cy=\"0\" r=\"3\" /><text class=\"lab lft\" transform=\"translate(-3 -7.0)\">53</text></g><path class=\"edge\" d=\"M 0 0 V -12.4438 H 104.625\" /><circle class=\"sym\" cx=\"0\" cy=\"0\" r=\"3\" /><text class=\"lab lft\" transform=\"translate(-3 -7.0)\">55</text></g><path class=\"edge\" d=\"M 0 0 V -7.55098 H 79.3125\" /><circle class=\"sym\" cx=\"0\" cy=\"0\" r=\"3\" /><text class=\"lab lft\" transform=\"translate(-3 -7.0)\">57</text></g><path class=\"edge\" d=\"M 0 0 V -48.9384 H 77.1562\" /><circle class=\"sym\" cx=\"0\" cy=\"0\" r=\"3\" /><text class=\"lab lft\" transform=\"translate(-3 -7.0)\">58</text></g><g class=\"a60 c2 node n59 p1\" transform=\"translate(77.1562 12.5641)\"><g class=\"a59 i14 leaf node n28 p1 sample\" transform=\"translate(21 230.879)\"><path class=\"edge\" d=\"M 0 0 V -230.879 H -21\" /><rect class=\"sym\" height=\"6\" style=\"fill:blue;\" width=\"6\" x=\"-3\" y=\"-3\" /><text class=\"lab\" transform=\"translate(0 11)\">28</text></g><g class=\"a59 c2 node n56 p1\" transform=\"translate(-21 55.5946)\"><g class=\"a56 i13 leaf node n27 p1 sample\" transform=\"translate(18 175.285)\"><path class=\"edge\" d=\"M 0 0 V -175.285 H -18\" /><rect class=\"sym\" height=\"6\" style=\"fill:blue;\" width=\"6\" x=\"-3\" y=\"-3\" /><text class=\"lab\" transform=\"translate(0 11)\">27</text></g><g class=\"a56 c2 node n49 p1\" transform=\"translate(-18 67.4345)\"><g class=\"a49 i13 leaf node n26 p1 sample\" transform=\"translate(-12 107.85)\"><path class=\"edge\" d=\"M 0 0 V -107.85 H 12\" /><rect class=\"sym\" height=\"6\" style=\"fill:blue;\" width=\"6\" x=\"-3\" y=\"-3\" /><text class=\"lab\" transform=\"translate(0 11)\">26</text></g><g class=\"a49 i16 leaf node n33 p1 sample\" transform=\"translate(12 107.85)\"><path class=\"edge\" d=\"M 0 0 V -107.85 H -12\" /><rect class=\"sym\" height=\"6\" style=\"fill:blue;\" width=\"6\" x=\"-3\" y=\"-3\" /><text class=\"lab\" transform=\"translate(0 11)\">33</text></g><path class=\"edge\" d=\"M 0 0 V -67.4345 H 18\" /><circle class=\"sym\" cx=\"0\" cy=\"0\" r=\"3\" /><text class=\"lab lft\" transform=\"translate(-3 -7.0)\">49</text></g><path class=\"edge\" d=\"M 0 0 V -55.5946 H 21\" /><circle class=\"sym\" cx=\"0\" cy=\"0\" r=\"3\" /><text class=\"lab lft\" transform=\"translate(-3 -7.0)\">56</text></g><path class=\"edge\" d=\"M 0 0 V -12.5641 H -77.1562\" /><circle class=\"sym\" cx=\"0\" cy=\"0\" r=\"3\" /><text class=\"lab rgt\" transform=\"translate(3 -7.0)\">59</text></g><path class=\"edge\" d=\"M 0 0 V -160.989 H -232.172\" /><circle class=\"sym\" cx=\"0\" cy=\"0\" r=\"3\" /><text class=\"lab rgt\" transform=\"translate(3 -7.0)\">60</text></g><g class=\"a86 c2 node n85 p2\" transform=\"translate(-232.172 9.60912)\"><g class=\"a85 c2 node n61 p0\" transform=\"translate(70.5 142.749)\"><g class=\"a61 i4 leaf node n9 p0 sample\" transform=\"translate(-12 252.074)\"><path class=\"edge\" d=\"M 0 0 V -252.074 H 12\" /><rect class=\"sym\" height=\"6\" style=\"fill:red;\" width=\"6\" x=\"-3\" y=\"-3\" /><text class=\"lab\" transform=\"translate(0 11)\">9</text></g><g class=\"a61 i5 leaf node n10 p0 sample\" transform=\"translate(12 252.074)\"><path class=\"edge\" d=\"M 0 0 V -252.074 H -12\" /><rect class=\"sym\" height=\"6\" style=\"fill:red;\" width=\"6\" x=\"-3\" y=\"-3\" /><text class=\"lab\" transform=\"translate(0 11)\">10</text></g><path class=\"edge\" d=\"M 0 0 V -142.749 H -70.5\" /><circle class=\"sym\" cx=\"0\" cy=\"0\" r=\"3\" /><text class=\"lab rgt\" transform=\"translate(3 -7.0)\">61</text></g><g class=\"a85 c2 node n79 p0\" transform=\"translate(-70.5 34.646)\"><g class=\"a79 c2 node n77 p0\" transform=\"translate(60 8.98144)\"><g class=\"a77 c2 node n73 p0\" transform=\"translate(-33 33.1908)\"><g class=\"a73 i3 leaf node n7 p0 sample\" transform=\"translate(-18 318.005)\"><path class=\"edge\" d=\"M 0 0 V -318.005 H 18\" /><rect class=\"sym\" height=\"6\" style=\"fill:red;\" width=\"6\" x=\"-3\" y=\"-3\" /><text class=\"lab\" transform=\"translate(0 11)\">7</text></g><g class=\"a73 c2 node n67 p0\" transform=\"translate(18 23.7492)\"><g class=\"a67 i4 leaf node n8 p0 sample\" transform=\"translate(-12 294.256)\"><path class=\"edge\" d=\"M 0 0 V -294.256 H 12\" /><rect class=\"sym\" height=\"6\" style=\"fill:red;\" width=\"6\" x=\"-3\" y=\"-3\" /><text class=\"lab\" transform=\"translate(0 11)\">8</text></g><g class=\"a67 i6 leaf node n13 p0 sample\" transform=\"translate(12 294.256)\"><path class=\"edge\" d=\"M 0 0 V -294.256 H -12\" /><rect class=\"sym\" height=\"6\" style=\"fill:red;\" width=\"6\" x=\"-3\" y=\"-3\" /><text class=\"lab\" transform=\"translate(0 11)\">13</text></g><path class=\"edge\" d=\"M 0 0 V -23.7492 H -18\" /><circle class=\"sym\" cx=\"0\" cy=\"0\" r=\"3\" /><text class=\"lab rgt\" transform=\"translate(3 -7.0)\">67</text></g><path class=\"edge\" d=\"M 0 0 V -33.1908 H 33\" /><circle class=\"sym\" cx=\"0\" cy=\"0\" r=\"3\" /><text class=\"lab lft\" transform=\"translate(-3 -7.0)\">73</text></g><g class=\"a77 c2 node n74 p0\" transform=\"translate(33 27.8205)\"><g class=\"a74 i8 leaf node n17 p0 sample\" transform=\"translate(-12 323.375)\"><path class=\"edge\" d=\"M 0 0 V -323.375 H 12\" /><rect class=\"sym\" height=\"6\" style=\"fill:red;\" width=\"6\" x=\"-3\" y=\"-3\" /><text class=\"lab\" transform=\"translate(0 11)\">17</text></g><g class=\"a74 i9 leaf node n19 p0 sample\" transform=\"translate(12 323.375)\"><path class=\"edge\" d=\"M 0 0 V -323.375 H -12\" /><rect class=\"sym\" height=\"6\" style=\"fill:red;\" width=\"6\" x=\"-3\" y=\"-3\" /><text class=\"lab\" transform=\"translate(0 11)\">19</text></g><path class=\"edge\" d=\"M 0 0 V -27.8205 H -33\" /><circle class=\"sym\" cx=\"0\" cy=\"0\" r=\"3\" /><text class=\"lab rgt\" transform=\"translate(3 -7.0)\">74</text></g><path class=\"edge\" d=\"M 0 0 V -8.98144 H -60\" /><circle class=\"sym\" cx=\"0\" cy=\"0\" r=\"3\" /><text class=\"lab rgt\" transform=\"translate(3 -7.0)\">77</text></g><g class=\"a79 c2 node n78 p0\" transform=\"translate(-60 2.84082)\"><g class=\"a78 i0 leaf node n1 p0 sample\" transform=\"translate(-27 357.336)\"><path class=\"edge\" d=\"M 0 0 V -357.336 H 27\" /><rect class=\"sym\" height=\"6\" style=\"fill:red;\" width=\"6\" x=\"-3\" y=\"-3\" /><text class=\"lab\" transform=\"translate(0 11)\">1</text></g><g class=\"a78 c2 node n66 p0\" transform=\"translate(27 73.8959)\"><g class=\"a66 i7 leaf node n15 p0 sample\" transform=\"translate(18 283.44)\"><path class=\"edge\" d=\"M 0 0 V -283.44 H -18\" /><rect class=\"sym\" height=\"6\" style=\"fill:red;\" width=\"6\" x=\"-3\" y=\"-3\" /><text class=\"lab\" transform=\"translate(0 11)\">15</text></g><g class=\"a66 c2 node n64 p0\" transform=\"translate(-18 9.76164)\"><g class=\"a64 i1 leaf node n2 p0 sample\" transform=\"translate(-12 273.679)\"><path class=\"edge\" d=\"M 0 0 V -273.679 H 12\" /><rect class=\"sym\" height=\"6\" style=\"fill:red;\" width=\"6\" x=\"-3\" y=\"-3\" /><text class=\"lab\" transform=\"translate(0 11)\">2</text></g><g class=\"a64 i6 leaf node n12 p0 sample\" transform=\"translate(12 273.679)\"><path class=\"edge\" d=\"M 0 0 V -273.679 H -12\" /><rect class=\"sym\" height=\"6\" style=\"fill:red;\" width=\"6\" x=\"-3\" y=\"-3\" /><text class=\"lab\" transform=\"translate(0 11)\">12</text></g><path class=\"edge\" d=\"M 0 0 V -9.76164 H 18\" /><circle class=\"sym\" cx=\"0\" cy=\"0\" r=\"3\" /><text class=\"lab lft\" transform=\"translate(-3 -7.0)\">64</text></g><path class=\"edge\" d=\"M 0 0 V -73.8959 H -27\" /><circle class=\"sym\" cx=\"0\" cy=\"0\" r=\"3\" /><text class=\"lab rgt\" transform=\"translate(3 -7.0)\">66</text></g><path class=\"edge\" d=\"M 0 0 V -2.84082 H 60\" /><circle class=\"sym\" cx=\"0\" cy=\"0\" r=\"3\" /><text class=\"lab lft\" transform=\"translate(-3 -7.0)\">78</text></g><path class=\"edge\" d=\"M 0 0 V -34.646 H 70.5\" /><circle class=\"sym\" cx=\"0\" cy=\"0\" r=\"3\" /><text class=\"lab lft\" transform=\"translate(-3 -7.0)\">79</text></g><path class=\"edge\" d=\"M 0 0 V -9.60912 H 232.172\" /><circle class=\"sym\" cx=\"0\" cy=\"0\" r=\"3\" /><text class=\"lab lft\" transform=\"translate(-3 -7.0)\">85</text></g><path class=\"edge\" d=\"M 0 0 V -36.8733 H -220.336\" /><circle class=\"sym\" cx=\"0\" cy=\"0\" r=\"3\" /><text class=\"lab rgt\" transform=\"translate(3 -7.0)\">86</text></g><path class=\"edge\" d=\"M 0 0 V -0.0943918 H 322.582\" /><circle class=\"sym\" cx=\"0\" cy=\"0\" r=\"3\" /><text class=\"lab lft\" transform=\"translate(-3 -7.0)\">89</text></g><circle class=\"sym\" cx=\"0\" cy=\"0\" r=\"3\" /><text class=\"lab\" transform=\"translate(0 -11)\">90</text></g></g></g></svg>'"
      ]
     },
     "execution_count": 276,
     "metadata": {},
     "output_type": "execute_result"
    }
   ],
   "source": [
    "tree.draw(node_colours=node_colours, width=1000, height=500, time_scale='log_time')"
   ]
  },
  {
   "cell_type": "code",
   "execution_count": 277,
   "metadata": {},
   "outputs": [
    {
     "data": {
      "text/html": [
       "<div>\n",
       "<style scoped>\n",
       "    .dataframe tbody tr th:only-of-type {\n",
       "        vertical-align: middle;\n",
       "    }\n",
       "\n",
       "    .dataframe tbody tr th {\n",
       "        vertical-align: top;\n",
       "    }\n",
       "\n",
       "    .dataframe thead th {\n",
       "        text-align: right;\n",
       "    }\n",
       "</style>\n",
       "<table border=\"1\" class=\"dataframe\">\n",
       "  <thead>\n",
       "    <tr style=\"text-align: right;\">\n",
       "      <th></th>\n",
       "      <th>nodes</th>\n",
       "    </tr>\n",
       "  </thead>\n",
       "  <tbody>\n",
       "    <tr>\n",
       "      <th>0</th>\n",
       "      <td>[16, 14, 3, 4, 18, 5, 0, 6, 11, 9, 10, 7, 8, 1...</td>\n",
       "    </tr>\n",
       "    <tr>\n",
       "      <th>1</th>\n",
       "      <td>[31, 22, 23, 36, 32, 34, 38, 21, 30, 25, 29, 3...</td>\n",
       "    </tr>\n",
       "  </tbody>\n",
       "</table>\n",
       "</div>"
      ],
      "text/plain": [
       "                                               nodes\n",
       "0  [16, 14, 3, 4, 18, 5, 0, 6, 11, 9, 10, 7, 8, 1...\n",
       "1  [31, 22, 23, 36, 32, 34, 38, 21, 30, 25, 29, 3..."
      ]
     },
     "execution_count": 277,
     "metadata": {},
     "output_type": "execute_result"
    }
   ],
   "source": [
    "pops = pd.DataFrame(columns=['nodes'])\n",
    "\n",
    "for node in tree.leaves(tree.root):\n",
    "    current_pop = ts.tables.nodes[node].population\n",
    "    if current_pop != 2 :\n",
    "        if (current_pop not in pops.index):\n",
    "            pops.loc[current_pop] = [[]]\n",
    "        pops.at[current_pop, 'nodes'].append(node)\n",
    "\n",
    "pops"
   ]
  },
  {
   "cell_type": "code",
   "execution_count": 278,
   "metadata": {},
   "outputs": [
    {
     "data": {
      "text/html": [
       "<div>\n",
       "<style scoped>\n",
       "    .dataframe tbody tr th:only-of-type {\n",
       "        vertical-align: middle;\n",
       "    }\n",
       "\n",
       "    .dataframe tbody tr th {\n",
       "        vertical-align: top;\n",
       "    }\n",
       "\n",
       "    .dataframe thead th {\n",
       "        text-align: right;\n",
       "    }\n",
       "</style>\n",
       "<table border=\"1\" class=\"dataframe\">\n",
       "  <thead>\n",
       "    <tr style=\"text-align: right;\">\n",
       "      <th></th>\n",
       "      <th>nodes</th>\n",
       "      <th>mrca</th>\n",
       "    </tr>\n",
       "  </thead>\n",
       "  <tbody>\n",
       "    <tr>\n",
       "      <th>0</th>\n",
       "      <td>[16, 14, 3, 4, 18, 5, 0, 6, 11, 9, 10, 7, 8, 1...</td>\n",
       "      <td>90</td>\n",
       "    </tr>\n",
       "    <tr>\n",
       "      <th>1</th>\n",
       "      <td>[31, 22, 23, 36, 32, 34, 38, 21, 30, 25, 29, 3...</td>\n",
       "      <td>60</td>\n",
       "    </tr>\n",
       "  </tbody>\n",
       "</table>\n",
       "</div>"
      ],
      "text/plain": [
       "                                               nodes  mrca\n",
       "0  [16, 14, 3, 4, 18, 5, 0, 6, 11, 9, 10, 7, 8, 1...    90\n",
       "1  [31, 22, 23, 36, 32, 34, 38, 21, 30, 25, 29, 3...    60"
      ]
     },
     "execution_count": 278,
     "metadata": {},
     "output_type": "execute_result"
    }
   ],
   "source": [
    "pops['mrca'] = pops['nodes'].apply(lambda x: tree.mrca(*x))\n",
    "pops"
   ]
  },
  {
   "cell_type": "code",
   "execution_count": 279,
   "metadata": {},
   "outputs": [
    {
     "data": {
      "text/html": [
       "<div>\n",
       "<style scoped>\n",
       "    .dataframe tbody tr th:only-of-type {\n",
       "        vertical-align: middle;\n",
       "    }\n",
       "\n",
       "    .dataframe tbody tr th {\n",
       "        vertical-align: top;\n",
       "    }\n",
       "\n",
       "    .dataframe thead th {\n",
       "        text-align: right;\n",
       "    }\n",
       "</style>\n",
       "<table border=\"1\" class=\"dataframe\">\n",
       "  <thead>\n",
       "    <tr style=\"text-align: right;\">\n",
       "      <th></th>\n",
       "      <th>nodes</th>\n",
       "      <th>mrca</th>\n",
       "      <th>toplevelChildren</th>\n",
       "    </tr>\n",
       "  </thead>\n",
       "  <tbody>\n",
       "    <tr>\n",
       "      <th>0</th>\n",
       "      <td>[16, 14, 3, 4, 18, 5, 0, 6, 11, 9, 10, 7, 8, 1...</td>\n",
       "      <td>90</td>\n",
       "      <td>[16, 14, 3, 4, 18, 5, 0, 6, 11, 31, 22, 23, 36...</td>\n",
       "    </tr>\n",
       "    <tr>\n",
       "      <th>1</th>\n",
       "      <td>[31, 22, 23, 36, 32, 34, 38, 21, 30, 25, 29, 3...</td>\n",
       "      <td>60</td>\n",
       "      <td>[31, 22, 23, 36, 32, 34, 38, 21, 30, 25, 29, 3...</td>\n",
       "    </tr>\n",
       "  </tbody>\n",
       "</table>\n",
       "</div>"
      ],
      "text/plain": [
       "                                               nodes  mrca  \\\n",
       "0  [16, 14, 3, 4, 18, 5, 0, 6, 11, 9, 10, 7, 8, 1...    90   \n",
       "1  [31, 22, 23, 36, 32, 34, 38, 21, 30, 25, 29, 3...    60   \n",
       "\n",
       "                                    toplevelChildren  \n",
       "0  [16, 14, 3, 4, 18, 5, 0, 6, 11, 31, 22, 23, 36...  \n",
       "1  [31, 22, 23, 36, 32, 34, 38, 21, 30, 25, 29, 3...  "
      ]
     },
     "execution_count": 279,
     "metadata": {},
     "output_type": "execute_result"
    }
   ],
   "source": [
    "pops['toplevelChildren'] = pops['mrca'].apply(lambda x: list(tree.leaves(x)))\n",
    "pops"
   ]
  },
  {
   "cell_type": "code",
   "execution_count": 280,
   "metadata": {},
   "outputs": [
    {
     "name": "stdout",
     "output_type": "stream",
     "text": [
      "Not monophyly\n"
     ]
    }
   ],
   "source": [
    "if (pops['nodes'] == pops['toplevelChildren']).all() :\n",
    "    print(\"All nodes are toplevel childen\")\n",
    "    print(\"Monophyly is preserved\")\n",
    "else :\n",
    "    print(\"Not monophyly\")"
   ]
  }
 ],
 "metadata": {
  "kernelspec": {
   "display_name": "Python 3",
   "language": "python",
   "name": "python3"
  },
  "language_info": {
   "codemirror_mode": {
    "name": "ipython",
    "version": 3
   },
   "file_extension": ".py",
   "mimetype": "text/x-python",
   "name": "python",
   "nbconvert_exporter": "python",
   "pygments_lexer": "ipython3",
   "version": "3.11.9"
  }
 },
 "nbformat": 4,
 "nbformat_minor": 2
}
