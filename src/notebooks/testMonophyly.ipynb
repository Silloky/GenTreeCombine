{
 "cells": [
  {
   "cell_type": "code",
   "execution_count": 274,
   "metadata": {},
   "outputs": [
    {
     "name": "stdout",
     "output_type": "stream",
     "text": [
      "There are  15 trees and  92 nodes, of which 40 are sample nodes\n"
     ]
    }
   ],
   "source": [
    "# Create the Tree Sequence using the createTree.ipynb notebook\n",
    "\n",
    "import tskit\n",
    "import pandas as pd\n",
    "\n",
    "ts = tskit.load(\"data/simulated.trees\")"
   ]
  },
  {
   "cell_type": "code",
   "execution_count": 275,
   "metadata": {},
   "outputs": [],
   "source": [
    "tree = ts.at_index(0)"
   ]
  },
  {
   "cell_type": "code",
   "execution_count": 1,
   "metadata": {},
   "outputs": [
    {
     "ename": "NameError",
     "evalue": "name 'tree' is not defined",
     "output_type": "error",
     "traceback": [
      "\u001b[0;31m---------------------------------------------------------------------------\u001b[0m",
      "\u001b[0;31mNameError\u001b[0m                                 Traceback (most recent call last)",
      "Cell \u001b[0;32mIn[1], line 1\u001b[0m\n\u001b[0;32m----> 1\u001b[0m \u001b[43mtree\u001b[49m\u001b[38;5;241m.\u001b[39mdraw(node_colours\u001b[38;5;241m=\u001b[39mnode_colours, width\u001b[38;5;241m=\u001b[39m\u001b[38;5;241m1000\u001b[39m, height\u001b[38;5;241m=\u001b[39m\u001b[38;5;241m500\u001b[39m)\n",
      "\u001b[0;31mNameError\u001b[0m: name 'tree' is not defined"
     ]
    }
   ],
   "source": [
    "tree.draw(node_colours=node_colours, width=1000, height=500, time_scale='log_time')"
   ]
  },
  {
   "cell_type": "code",
   "execution_count": 277,
   "metadata": {},
   "outputs": [
    {
     "data": {
      "text/html": [
       "<div>\n",
       "<style scoped>\n",
       "    .dataframe tbody tr th:only-of-type {\n",
       "        vertical-align: middle;\n",
       "    }\n",
       "\n",
       "    .dataframe tbody tr th {\n",
       "        vertical-align: top;\n",
       "    }\n",
       "\n",
       "    .dataframe thead th {\n",
       "        text-align: right;\n",
       "    }\n",
       "</style>\n",
       "<table border=\"1\" class=\"dataframe\">\n",
       "  <thead>\n",
       "    <tr style=\"text-align: right;\">\n",
       "      <th></th>\n",
       "      <th>nodes</th>\n",
       "    </tr>\n",
       "  </thead>\n",
       "  <tbody>\n",
       "    <tr>\n",
       "      <th>0</th>\n",
       "      <td>[16, 14, 3, 4, 18, 5, 0, 6, 11, 9, 10, 7, 8, 1...</td>\n",
       "    </tr>\n",
       "    <tr>\n",
       "      <th>1</th>\n",
       "      <td>[31, 22, 23, 36, 32, 34, 38, 21, 30, 25, 29, 3...</td>\n",
       "    </tr>\n",
       "  </tbody>\n",
       "</table>\n",
       "</div>"
      ],
      "text/plain": [
       "                                               nodes\n",
       "0  [16, 14, 3, 4, 18, 5, 0, 6, 11, 9, 10, 7, 8, 1...\n",
       "1  [31, 22, 23, 36, 32, 34, 38, 21, 30, 25, 29, 3..."
      ]
     },
     "execution_count": 277,
     "metadata": {},
     "output_type": "execute_result"
    }
   ],
   "source": [
    "pops = pd.DataFrame(columns=['nodes'])\n",
    "\n",
    "for node in tree.leaves(tree.root):\n",
    "    current_pop = ts.tables.nodes[node].population\n",
    "    if current_pop != 2 :\n",
    "        if (current_pop not in pops.index):\n",
    "            pops.loc[current_pop] = [[]]\n",
    "        pops.at[current_pop, 'nodes'].append(node)\n",
    "\n",
    "pops"
   ]
  },
  {
   "cell_type": "code",
   "execution_count": 278,
   "metadata": {},
   "outputs": [
    {
     "data": {
      "text/html": [
       "<div>\n",
       "<style scoped>\n",
       "    .dataframe tbody tr th:only-of-type {\n",
       "        vertical-align: middle;\n",
       "    }\n",
       "\n",
       "    .dataframe tbody tr th {\n",
       "        vertical-align: top;\n",
       "    }\n",
       "\n",
       "    .dataframe thead th {\n",
       "        text-align: right;\n",
       "    }\n",
       "</style>\n",
       "<table border=\"1\" class=\"dataframe\">\n",
       "  <thead>\n",
       "    <tr style=\"text-align: right;\">\n",
       "      <th></th>\n",
       "      <th>nodes</th>\n",
       "      <th>mrca</th>\n",
       "    </tr>\n",
       "  </thead>\n",
       "  <tbody>\n",
       "    <tr>\n",
       "      <th>0</th>\n",
       "      <td>[16, 14, 3, 4, 18, 5, 0, 6, 11, 9, 10, 7, 8, 1...</td>\n",
       "      <td>90</td>\n",
       "    </tr>\n",
       "    <tr>\n",
       "      <th>1</th>\n",
       "      <td>[31, 22, 23, 36, 32, 34, 38, 21, 30, 25, 29, 3...</td>\n",
       "      <td>60</td>\n",
       "    </tr>\n",
       "  </tbody>\n",
       "</table>\n",
       "</div>"
      ],
      "text/plain": [
       "                                               nodes  mrca\n",
       "0  [16, 14, 3, 4, 18, 5, 0, 6, 11, 9, 10, 7, 8, 1...    90\n",
       "1  [31, 22, 23, 36, 32, 34, 38, 21, 30, 25, 29, 3...    60"
      ]
     },
     "execution_count": 278,
     "metadata": {},
     "output_type": "execute_result"
    }
   ],
   "source": [
    "pops['mrca'] = pops['nodes'].apply(lambda x: tree.mrca(*x))\n",
    "pops"
   ]
  },
  {
   "cell_type": "code",
   "execution_count": 279,
   "metadata": {},
   "outputs": [
    {
     "data": {
      "text/html": [
       "<div>\n",
       "<style scoped>\n",
       "    .dataframe tbody tr th:only-of-type {\n",
       "        vertical-align: middle;\n",
       "    }\n",
       "\n",
       "    .dataframe tbody tr th {\n",
       "        vertical-align: top;\n",
       "    }\n",
       "\n",
       "    .dataframe thead th {\n",
       "        text-align: right;\n",
       "    }\n",
       "</style>\n",
       "<table border=\"1\" class=\"dataframe\">\n",
       "  <thead>\n",
       "    <tr style=\"text-align: right;\">\n",
       "      <th></th>\n",
       "      <th>nodes</th>\n",
       "      <th>mrca</th>\n",
       "      <th>toplevelChildren</th>\n",
       "    </tr>\n",
       "  </thead>\n",
       "  <tbody>\n",
       "    <tr>\n",
       "      <th>0</th>\n",
       "      <td>[16, 14, 3, 4, 18, 5, 0, 6, 11, 9, 10, 7, 8, 1...</td>\n",
       "      <td>90</td>\n",
       "      <td>[16, 14, 3, 4, 18, 5, 0, 6, 11, 31, 22, 23, 36...</td>\n",
       "    </tr>\n",
       "    <tr>\n",
       "      <th>1</th>\n",
       "      <td>[31, 22, 23, 36, 32, 34, 38, 21, 30, 25, 29, 3...</td>\n",
       "      <td>60</td>\n",
       "      <td>[31, 22, 23, 36, 32, 34, 38, 21, 30, 25, 29, 3...</td>\n",
       "    </tr>\n",
       "  </tbody>\n",
       "</table>\n",
       "</div>"
      ],
      "text/plain": [
       "                                               nodes  mrca  \\\n",
       "0  [16, 14, 3, 4, 18, 5, 0, 6, 11, 9, 10, 7, 8, 1...    90   \n",
       "1  [31, 22, 23, 36, 32, 34, 38, 21, 30, 25, 29, 3...    60   \n",
       "\n",
       "                                    toplevelChildren  \n",
       "0  [16, 14, 3, 4, 18, 5, 0, 6, 11, 31, 22, 23, 36...  \n",
       "1  [31, 22, 23, 36, 32, 34, 38, 21, 30, 25, 29, 3...  "
      ]
     },
     "execution_count": 279,
     "metadata": {},
     "output_type": "execute_result"
    }
   ],
   "source": [
    "pops['toplevelChildren'] = pops['mrca'].apply(lambda x: list(tree.leaves(x)))\n",
    "pops"
   ]
  },
  {
   "cell_type": "code",
   "execution_count": 280,
   "metadata": {},
   "outputs": [
    {
     "name": "stdout",
     "output_type": "stream",
     "text": [
      "Not monophyly\n"
     ]
    }
   ],
   "source": [
    "if (pops['nodes'] == pops['toplevelChildren']).all() :\n",
    "    print(\"All nodes are toplevel childen\")\n",
    "    print(\"Monophyly is preserved\")\n",
    "else :\n",
    "    print(\"Not monophyly\")"
   ]
  }
 ],
 "metadata": {
  "kernelspec": {
   "display_name": "Python 3",
   "language": "python",
   "name": "python3"
  },
  "language_info": {
   "codemirror_mode": {
    "name": "ipython",
    "version": 3
   },
   "file_extension": ".py",
   "mimetype": "text/x-python",
   "name": "python",
   "nbconvert_exporter": "python",
   "pygments_lexer": "ipython3",
   "version": "3.11.9"
  }
 },
 "nbformat": 4,
 "nbformat_minor": 2
}
