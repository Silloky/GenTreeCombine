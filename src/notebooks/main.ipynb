{
 "cells": [
  {
   "cell_type": "code",
   "execution_count": 30,
   "metadata": {},
   "outputs": [],
   "source": [
    "import pandas as pd\n",
    "import tskit as tsk\n",
    "from IPython.display import Markdown, display\n",
    "import numpy as np\n",
    "import matplotlib.pyplot as plt\n",
    "from multiprocessing import Pool\n",
    "\n",
    "%run -i \"../isRecipMonophyletic.py\"\n",
    "\n",
    "ts = tsk.load(\"../../data/sim/IM_m0_T1_chr1_1e4.trees\")\n"
   ]
  },
  {
   "cell_type": "code",
   "execution_count": 3,
   "metadata": {},
   "outputs": [],
   "source": [
    "pop_by_node = pd.DataFrame({\n",
    "    \"pop\": [ts.tables.nodes[leaf].population for leaf in ts.samples()], # Get the population of each leaf\n",
    "})"
   ]
  },
  {
   "cell_type": "code",
   "execution_count": 4,
   "metadata": {},
   "outputs": [],
   "source": [
    "# Create standalone pandas DataFrame for easier manipulation of data than tskit's tables...\n",
    "\n",
    "pd_sequence = pd.DataFrame(\n",
    "    {\n",
    "        'span': [tree.span for tree in ts.trees()],\n",
    "        'bounds': [(tree.interval.left, tree.interval.right) for tree in ts.trees()],\n",
    "        'treeObj' : ts.aslist()\n",
    "    },\n",
    "    index=[tree.index for tree in ts.trees()]\n",
    ")"
   ]
  },
  {
   "cell_type": "markdown",
   "metadata": {},
   "source": [
    "### Calculate one value"
   ]
  },
  {
   "cell_type": "code",
   "execution_count": 5,
   "metadata": {},
   "outputs": [],
   "source": [
    "# Runs the reciprocally monophyletic test on each tree and saves the boolean result in the monophyletic column\n",
    "\n",
    "pd_sequence['monophyletic'] = pd_sequence.apply(lambda x: isRecipMonophyletic(x.treeObj, pop_by_node), axis=1)"
   ]
  },
  {
   "cell_type": "code",
   "execution_count": 8,
   "metadata": {},
   "outputs": [
    {
     "data": {
      "text/markdown": [
       "### Result : the sequence is monophyletic in **9.013 %** of the sequence."
      ],
      "text/plain": [
       "<IPython.core.display.Markdown object>"
      ]
     },
     "metadata": {},
     "output_type": "display_data"
    }
   ],
   "source": [
    "percentage = pd_sequence[pd_sequence['monophyletic'] == True]['span'].sum() / pd_sequence['span'].sum() # Calculate the percentage of the sequence that is monophyletic\n",
    "\n",
    "# Fancy display of the result\n",
    "display(Markdown(\"\".join((\"### Result : the sequence is monophyletic in **\", str(percentage*100), \" %** of the sequence.\"))))"
   ]
  },
  {
   "cell_type": "markdown",
   "metadata": {},
   "source": [
    "### Bootstrap approach"
   ]
  },
  {
   "cell_type": "code",
   "execution_count": 55,
   "metadata": {},
   "outputs": [],
   "source": [
    "def calc(_) :\n",
    "    bootstrap = pd_sequence.sample(n=len(pd_sequence), replace=True)\n",
    "    bootstrap['monophyletic'] = bootstrap.apply(lambda x: isRecipMonophyletic(x.treeObj, pop_by_node), axis=1)\n",
    "    return bootstrap[bootstrap['monophyletic'] == True]['span'].sum() / bootstrap['span'].sum()\n",
    "\n",
    "p = Pool(2)\n",
    "percentages = p.map(calc, range(2))"
   ]
  },
  {
   "cell_type": "code",
   "execution_count": 57,
   "metadata": {},
   "outputs": [
    {
     "data": {
      "text/plain": [
       "array([0.08386274, 0.08386274])"
      ]
     },
     "execution_count": 57,
     "metadata": {},
     "output_type": "execute_result"
    }
   ],
   "source": [
    "percentages = np.array(percentages)\n",
    "\n",
    "np.percentile(percentages, [5, 95])"
   ]
  }
 ],
 "metadata": {
  "kernelspec": {
   "display_name": "Python 3",
   "language": "python",
   "name": "python3"
  },
  "language_info": {
   "codemirror_mode": {
    "name": "ipython",
    "version": 3
   },
   "file_extension": ".py",
   "mimetype": "text/x-python",
   "name": "python",
   "nbconvert_exporter": "python",
   "pygments_lexer": "ipython3",
   "version": "3.11.9"
  }
 },
 "nbformat": 4,
 "nbformat_minor": 2
}
