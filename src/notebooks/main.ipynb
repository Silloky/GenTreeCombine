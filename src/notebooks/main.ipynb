{
 "cells": [
  {
   "cell_type": "code",
   "execution_count": null,
   "metadata": {},
   "outputs": [],
   "source": [
    "import pandas as pd\n",
    "import tskit as tsk\n",
    "from IPython.display import Markdown, display\n",
    "import numpy as np\n",
    "import matplotlib.pyplot as plt\n",
    "# from pathos.multiprocessing import ProcessingPool as Pool\n",
    "from multiprocessing import Pool\n",
    "from datetime import datetime\n",
    "import json\n",
    "import functools\n",
    "\n",
    "%run -i \"../isRecipMonophyletic.py\"\n",
    "\n",
    "filename = \"cgal379.trees\"\n",
    "filepath = \"../../data/real/\"\n",
    "\n",
    "startTime = datetime.now()\n",
    "\n",
    "ts = tsk.load(filepath + filename)"
   ]
  },
  {
   "cell_type": "code",
   "execution_count": null,
   "metadata": {},
   "outputs": [],
   "source": [
    "# Define a list of predefined colors\n",
    "predefined_colors = [\"red\", \"blue\", \"green\", \"yellow\", \"orange\", \"purple\", \"brown\", \"pink\"] # Maximum 8 populations...\n",
    "\n",
    "# Initialize node_colours dictionary\n",
    "node_colours = {}\n",
    "\n",
    "for node_index, node in enumerate(ts.tables.nodes):\n",
    "\tif (node.flags & tsk.NODE_IS_SAMPLE) != 0: # If node is a sample\n",
    "\t\t\n",
    "\t\t# Assign color from predefined list, cycling through colors if necessary\n",
    "\t\tcolor = predefined_colors[node.population % len(predefined_colors)]\n",
    "\t\tnode_colours[node_index] = color\n",
    "\n"
   ]
  },
  {
   "cell_type": "code",
   "execution_count": null,
   "metadata": {},
   "outputs": [],
   "source": [
    "pop_groups = [\n",
    "    [0, 1],\n",
    "    [2, 3]\n",
    "]\n",
    "\n",
    "pop_by_node = pd.DataFrame({\n",
    "    \"pop\": [ts.tables.nodes[leaf].population for leaf in ts.samples()], # Get the population of each leaf\n",
    "})"
   ]
  },
  {
   "cell_type": "code",
   "execution_count": null,
   "metadata": {},
   "outputs": [],
   "source": [
    "# Create standalone pandas DataFrame for easier manipulation of data than tskit's tables...\n",
    "\n",
    "pd_sequence = pd.DataFrame(\n",
    "    {\n",
    "        'span': [tree.span for tree in ts.trees()],\n",
    "        'bounds': [(tree.interval.left, tree.interval.right) for tree in ts.trees()],\n",
    "        'treeObj' : ts.aslist()\n",
    "    },\n",
    "    index=[tree.index for tree in ts.trees()]\n",
    ")"
   ]
  },
  {
   "cell_type": "markdown",
   "metadata": {},
   "source": [
    "### Bootstrap approach"
   ]
  },
  {
   "cell_type": "code",
   "execution_count": null,
   "metadata": {},
   "outputs": [],
   "source": [
    "n_threads = 4\n",
    "n_samples = 0\n",
    "multiprocessing = False\n",
    "\n",
    "def f(i) : # Define util to be run in parallel\n",
    "    np.random.seed(i + np.random.randint(0, 10000))\n",
    "    bootstrap = pd_sequence.sample(n=int(len(pd_sequence) * 0.9), replace=True) # Use pandas sample method to take random trees in the sequence for monophyly test\n",
    "    bootstrap['monophyletic'] = bootstrap.apply(lambda x: isRecipMonophyletic(x.treeObj, pop_by_node, pop_groups), axis=1) # Runs the test\n",
    "    return bootstrap[bootstrap['monophyletic'] == True]['span'].sum() / bootstrap['span'].sum() # Gets the percentage of the sample trees that is monophyletic\n",
    "\n",
    "if multiprocessing :\n",
    "    pool = Pool(n_threads) # Create a pool of 2 workers\n",
    "    percentages = np.array(pool.map(f, range(n_samples))) * 100 # Run bootstrap twice in parallel\n",
    "else :\n",
    "    percentages = np.array(list(map(f, range(n_samples)))) * 100"
   ]
  },
  {
   "cell_type": "markdown",
   "metadata": {},
   "source": [
    "### Monophyly test for the output"
   ]
  },
  {
   "cell_type": "code",
   "execution_count": null,
   "metadata": {},
   "outputs": [],
   "source": [
    "# Runs the reciprocally monophyletic test on each tree and saves the boolean result in the monophyletic column\n",
    "\n",
    "pd_sequence['monophyletic'] = pd_sequence.apply(lambda x: isRecipMonophyletic(ts.at_index(x.name), pop_by_node, pop_groups), axis=1)\n",
    "simplepercentage = pd_sequence[pd_sequence['monophyletic'] == True]['span'].sum() / pd_sequence['span'].sum() * 100"
   ]
  },
  {
   "cell_type": "markdown",
   "metadata": {},
   "source": [
    "### Export results"
   ]
  },
  {
   "cell_type": "code",
   "execution_count": null,
   "metadata": {},
   "outputs": [],
   "source": [
    "endTime = datetime.now()"
   ]
  },
  {
   "cell_type": "code",
   "execution_count": null,
   "metadata": {},
   "outputs": [],
   "source": [
    "raw = {\n",
    "    \"tree_sequence_length\": ts.last().interval.right,\n",
    "    \"positive\": int((pd_sequence['monophyletic'] == True).sum()),\n",
    "    \"negative\": int((pd_sequence['monophyletic'] == False).sum()),\n",
    "    \"total_trees\": len(pd_sequence),\n",
    "    \"percentage\": simplepercentage,\n",
    "    \"details\": pd_sequence[['bounds', 'span', 'monophyletic']].to_dict(orient='records')\n",
    "}\n",
    "\n",
    "if n_samples > 0 :\n",
    "    result = {\n",
    "        \"percentage\": percentages.mean(),\n",
    "        \"stddev\": percentages.std(),\n",
    "        \"confidence_interval\": {\n",
    "            \"bounds\": [5, 95],\n",
    "            \"lower\": np.percentile(percentages, 5),\n",
    "            \"upper\": np.percentile(percentages, 95)\n",
    "        },\n",
    "        \"raw\": raw\n",
    "    }\n",
    "else :\n",
    "    result = {\n",
    "        \"raw\": raw\n",
    "    }"
   ]
  },
  {
   "cell_type": "code",
   "execution_count": null,
   "metadata": {},
   "outputs": [],
   "source": [
    "# Define output file format\n",
    "\n",
    "output = {\n",
    "    \"file\": filename,\n",
    "    \"test\": \"reciprocal_monophyly\",\n",
    "    \"description\": \"Reciprocal monophyly test on the tree sequence\",\n",
    "    \"analysis_settings\": {\n",
    "        \"bootstrap_samples\": n_samples,\n",
    "    },\n",
    "    \"perf\" : {\n",
    "        \"multiprocessing\": multiprocessing,\n",
    "        \"threads\": n_threads,\n",
    "        \"start\": startTime,\n",
    "        \"end\": endTime,\n",
    "        \"duration\": endTime - startTime\n",
    "    },\n",
    "    \"result\": result\n",
    "}"
   ]
  },
  {
   "cell_type": "code",
   "execution_count": null,
   "metadata": {},
   "outputs": [],
   "source": [
    "json.dump(output, default=str, indent=4, fp=open(filepath + filename + \".recip_monophyletic.json\", \"w\"))"
   ]
  }
 ],
 "metadata": {
  "kernelspec": {
   "display_name": "Python 3",
   "language": "python",
   "name": "python3"
  },
  "language_info": {
   "codemirror_mode": {
    "name": "ipython",
    "version": 3
   },
   "file_extension": ".py",
   "mimetype": "text/x-python",
   "name": "python",
   "nbconvert_exporter": "python",
   "pygments_lexer": "ipython3",
   "version": "3.12.4"
  }
 },
 "nbformat": 4,
 "nbformat_minor": 2
}
