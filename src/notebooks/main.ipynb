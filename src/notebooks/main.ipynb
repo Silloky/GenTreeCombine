{
 "cells": [
  {
   "cell_type": "code",
   "execution_count": 36,
   "metadata": {},
   "outputs": [],
   "source": [
    "import pandas as pd\n",
    "import tskit as tsk\n",
    "from IPython.display import Markdown, display\n",
    "import numpy as np\n",
    "import matplotlib.pyplot as plt\n",
    "from multiprocessing import Pool\n",
    "\n",
    "%run -i \"../isRecipMonophyletic.py\"\n",
    "\n",
    "ts = tsk.load(\"../../data/real/cgal379.trees\")\n",
    "ancestral_pop_id = -1 # -1 if no ancestral pop\n"
   ]
  },
  {
   "cell_type": "code",
   "execution_count": 37,
   "metadata": {},
   "outputs": [],
   "source": [
    "# Define a list of predefined colors\n",
    "predefined_colors = [\"red\", \"blue\", \"green\", \"purple\", \"orange\", \"yellow\", \"brown\", \"pink\"] # Maximum 8 populations...\n",
    "\n",
    "# Initialize node_colours dictionary\n",
    "node_colours = {}\n",
    "\n",
    "for node_index, node in enumerate(ts.tables.nodes):\n",
    "\tif (node.flags & tsk.NODE_IS_SAMPLE) != 0: # If node is a sample\n",
    "\t\t\n",
    "\t\t# Assign color from predefined list, cycling through colors if necessary\n",
    "\t\tcolor = predefined_colors[node.population % len(predefined_colors)]\n",
    "\t\tnode_colours[node_index] = color\n",
    "\n"
   ]
  },
  {
   "cell_type": "code",
   "execution_count": 38,
   "metadata": {},
   "outputs": [],
   "source": [
    "pop_by_node = pd.DataFrame({\n",
    "    \"pop\": [ts.tables.nodes[leaf].population for leaf in ts.samples()], # Get the population of each leaf\n",
    "})"
   ]
  },
  {
   "cell_type": "code",
   "execution_count": 39,
   "metadata": {},
   "outputs": [],
   "source": [
    "# Create standalone pandas DataFrame for easier manipulation of data than tskit's tables...\n",
    "\n",
    "pd_sequence = pd.DataFrame(\n",
    "    {\n",
    "        'span': [tree.span for tree in ts.trees()],\n",
    "        'bounds': [(tree.interval.left, tree.interval.right) for tree in ts.trees()],\n",
    "        'treeObj' : ts.aslist()\n",
    "    },\n",
    "    index=[tree.index for tree in ts.trees()]\n",
    ")"
   ]
  },
  {
   "cell_type": "markdown",
   "metadata": {},
   "source": [
    "### Calculate one value"
   ]
  },
  {
   "cell_type": "code",
   "execution_count": 19,
   "metadata": {},
   "outputs": [],
   "source": [
    "# Runs the reciprocally monophyletic test on each tree and saves the boolean result in the monophyletic column\n",
    "\n",
    "pd_sequence['monophyletic'] = pd_sequence.apply(lambda x: isRecipMonophyletic(x.treeObj, pop_by_node, ancestral_pop_id), axis=1)"
   ]
  },
  {
   "cell_type": "code",
   "execution_count": 16,
   "metadata": {},
   "outputs": [
    {
     "data": {
      "text/markdown": [
       "### Result : the sequence is monophyletic in **0.0 %** of the sequence."
      ],
      "text/plain": [
       "<IPython.core.display.Markdown object>"
      ]
     },
     "metadata": {},
     "output_type": "display_data"
    }
   ],
   "source": [
    "percentage = pd_sequence[pd_sequence['monophyletic'] == True]['span'].sum() / pd_sequence['span'].sum() # Calculate the percentage of the sequence that is monophyletic\n",
    "\n",
    "# Fancy display of the result\n",
    "display(Markdown(\"\".join((\"### Result : the sequence is monophyletic in **\", str(percentage*100), \" %** of the sequence.\"))))"
   ]
  },
  {
   "cell_type": "markdown",
   "metadata": {},
   "source": [
    "### Bootstrap approach"
   ]
  },
  {
   "cell_type": "code",
   "execution_count": 41,
   "metadata": {},
   "outputs": [],
   "source": [
    "n_threads = 2\n",
    "n_samples = 10\n",
    "\n",
    "def f(_) : # Define util to be run in parallel\n",
    "    bootstrap = pd_sequence.sample(n=len(pd_sequence), replace=True) # Use pandas sample method to take random trees in the sequence for monophyly test\n",
    "    bootstrap['monophyletic'] = bootstrap.apply(lambda x: isRecipMonophyletic(x.treeObj, pop_by_node, ancestral_pop_id), axis=1) # Runs the test\n",
    "    return bootstrap[bootstrap['monophyletic'] == True]['span'].sum() / bootstrap['span'].sum() # Gets the percentage of the sample trees that is monophyletic\n",
    "\n",
    "p = Pool(n_threads) # Create a pool of 2 workers\n",
    "percentages = p.map(f, range(n_samples)) # Run bootstrap twice in parallel"
   ]
  },
  {
   "cell_type": "code",
   "execution_count": 42,
   "metadata": {},
   "outputs": [
    {
     "data": {
      "text/plain": [
       "array([0., 0.])"
      ]
     },
     "execution_count": 42,
     "metadata": {},
     "output_type": "execute_result"
    }
   ],
   "source": [
    "percentages = np.array(percentages)\n",
    "\n",
    "np.percentile(percentages, [5, 95])"
   ]
  },
  {
   "cell_type": "markdown",
   "metadata": {},
   "source": [
    "### Export results"
   ]
  },
  {
   "cell_type": "code",
   "execution_count": null,
   "metadata": {},
   "outputs": [],
   "source": []
  }
 ],
 "metadata": {
  "kernelspec": {
   "display_name": "Python 3",
   "language": "python",
   "name": "python3"
  },
  "language_info": {
   "codemirror_mode": {
    "name": "ipython",
    "version": 3
   },
   "file_extension": ".py",
   "mimetype": "text/x-python",
   "name": "python",
   "nbconvert_exporter": "python",
   "pygments_lexer": "ipython3",
   "version": "3.11.9"
  }
 },
 "nbformat": 4,
 "nbformat_minor": 2
}
