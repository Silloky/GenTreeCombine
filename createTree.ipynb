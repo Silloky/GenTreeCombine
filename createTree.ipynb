{
 "cells": [
  {
   "cell_type": "code",
   "execution_count": null,
   "metadata": {},
   "outputs": [],
   "source": [
    "import stdpopsim as sim\n",
    "import tskit as tsk"
   ]
  },
  {
   "cell_type": "markdown",
   "metadata": {},
   "source": [
    "### Simulation"
   ]
  },
  {
   "cell_type": "code",
   "execution_count": null,
   "metadata": {},
   "outputs": [],
   "source": [
    "species = sim.get_species(\"HomSap\")                                                     # Load pre-saved stdpopkit species\n",
    "\n",
    "# Init parameters\n",
    "\n",
    "model = sim.IsolationWithMigration(NA=1e4, N1=1e4, N2=1e2, T=1e4, M12=0, M21=0)         # Define the model with our own parameters\n",
    "contig = species.get_contig(mutation_rate=1e-8, chromosome='chr1', left=0, right=1e4)   # Create a default contig but with a length of 1e6 and a mutation rate of 0\n",
    "samples = {\n",
    "    \"pop1\": 10,                                                                         # Select sample size\n",
    "    \"pop2\": 10\n",
    "}\n",
    "engine = sim.get_engine(\"msprime\")                                                      # Set msprime as the simulation engine"
   ]
  },
  {
   "cell_type": "code",
   "execution_count": null,
   "metadata": {},
   "outputs": [],
   "source": [
    "ts = engine.simulate(model, contig, samples)    # Run the simulation"
   ]
  },
  {
   "cell_type": "markdown",
   "metadata": {},
   "source": [
    "### Tests with the new tree"
   ]
  },
  {
   "cell_type": "code",
   "execution_count": null,
   "metadata": {},
   "outputs": [],
   "source": [
    "ts.breakpoints(as_array=True)\n",
    "\n",
    "print(\"There are \", ts.num_trees, \"trees and \", ts.num_nodes, \"nodes, of which\", ts.num_samples, \"are sample nodes\")\n"
   ]
  },
  {
   "cell_type": "code",
   "execution_count": null,
   "metadata": {},
   "outputs": [],
   "source": [
    "# Define population colours\n",
    "\n",
    "node_colours = {}\n",
    "for node_index, node in enumerate(ts.tables.nodes):\n",
    "    if (node.flags & tsk.NODE_IS_SAMPLE) != 0:\n",
    "        pop = node.population\n",
    "        if pop == 0: # pop1\n",
    "            node_colours[node_index] = \"red\"\n",
    "        elif pop == 1: # pop2\n",
    "            node_colours[node_index] = \"blue\"\n",
    "        elif pop == 2: # ancestral\n",
    "            node_colours[node_index] = \"green\""
   ]
  },
  {
   "cell_type": "code",
   "execution_count": null,
   "metadata": {},
   "outputs": [],
   "source": [
    "ts.at_index(0).draw(node_colours=node_colours, width=1000, height=500, time_scale='log_time')"
   ]
  }
 ],
 "metadata": {
  "kernelspec": {
   "display_name": "Python 3",
   "language": "python",
   "name": "python3"
  },
  "language_info": {
   "codemirror_mode": {
    "name": "ipython",
    "version": 3
   },
   "file_extension": ".py",
   "mimetype": "text/x-python",
   "name": "python",
   "nbconvert_exporter": "python",
   "pygments_lexer": "ipython3",
   "version": "3.11.9"
  }
 },
 "nbformat": 4,
 "nbformat_minor": 2
}
