{
 "cells": [
  {
   "cell_type": "code",
   "execution_count": null,
   "metadata": {},
   "outputs": [],
   "source": [
    "import stdpopsim as sim\n",
    "import tskit as tsk"
   ]
  },
  {
   "cell_type": "markdown",
   "metadata": {},
   "source": [
    "### Simulation"
   ]
  },
  {
   "cell_type": "code",
   "execution_count": null,
   "metadata": {},
   "outputs": [],
   "source": [
    "species = sim.get_species(\"HomSap\")                                                     # Load pre-saved stdpopkit species\n",
    "\n",
    "model = sim.IsolationWithMigration(NA=1e4, N1=1e4, N2=1e4, T=1e4, M12=0, M21=0)         # Define the model with our own parameters\n",
    "contig = species.get_contig(mutation_rate=1e-8, chromosome='chr1', left=0, right=1e4)   # Create a default contig but with a length of 1e6 and a mutation rate of 0\n",
    "samples = {\n",
    "    \"pop1\": 10,                                                                         # Select sample size\n",
    "    \"pop2\": 10\n",
    "}\n",
    "engine = sim.get_engine(\"msprime\")                                                      # Set msprime as the simulation engine"
   ]
  },
  {
   "cell_type": "code",
   "execution_count": null,
   "metadata": {},
   "outputs": [],
   "source": [
    "ts = engine.simulate(model, contig, samples)    # Run the simulation"
   ]
  },
  {
   "cell_type": "markdown",
   "metadata": {},
   "source": [
    "### Tests with the new tree"
   ]
  },
  {
   "cell_type": "code",
   "execution_count": null,
   "metadata": {},
   "outputs": [],
   "source": [
    "ts.breakpoints(as_array=True)\n",
    "print(ts)"
   ]
  }
 ],
 "metadata": {
  "kernelspec": {
   "display_name": "Python 3",
   "language": "python",
   "name": "python3"
  },
  "language_info": {
   "codemirror_mode": {
    "name": "ipython",
    "version": 3
   },
   "file_extension": ".py",
   "mimetype": "text/x-python",
   "name": "python",
   "nbconvert_exporter": "python",
   "pygments_lexer": "ipython3",
   "version": "3.11.9"
  }
 },
 "nbformat": 4,
 "nbformat_minor": 2
}
